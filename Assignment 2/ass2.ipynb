{
 "cells": [
  {
   "cell_type": "code",
   "execution_count": null,
   "metadata": {
    "vscode": {
     "languageId": "plaintext"
    }
   },
   "outputs": [],
   "source": [
    "import pytest\n",
    "from JuliaSetSecond import calculate_z_serial_purepython\n",
    "class TestJuliaSet:\n",
    "    def test_sum(self):\n",
    "        cs, zs = self.gen_var()\n",
    "        max_iterations = 300\n",
    "        output = calculate_z_serial_purepython(max_iterations, zs, cs)\n",
    "        assert sum(output) == 33219980\n",
    "    def gen_var(self):\n",
    "        desired_width = 1000\n",
    "        x1, x2, y1, y2 = -1.8, 1.8, -1.8, 1.8\n",
    "        c_real, c_imag = -0.62772, -.42193\n",
    "        \"\"\"Create a list of complex coordinates (zs) and complex parameters (cs),\n",
    "        build Julia set\"\"\"\n",
    "        x_step = (x2 - x1) / desired_width\n",
    "        y_step = (y1 - y2) / desired_width\n",
    "        x = []\n",
    "        y = []\n",
    "        ycoord = y2\n",
    "        while ycoord > y1:\n",
    "            y.append(ycoord)\n",
    "            ycoord += y_step\n",
    "        xcoord = x1\n",
    "        while xcoord < x2:\n",
    "            x.append(xcoord)\n",
    "            xcoord += x_step\n",
    "        # build a list of coordinates and the initial condition for each cell.\n",
    "        # Note that our initial condition is a constant and could easily be removed,\n",
    "        # we use it to simulate a real-world scenario with several inputs to our\n",
    "        # function\n",
    "        zs = []\n",
    "        cs = []\n",
    "        for ycoord in y:\n",
    "            for xcoord in x:\n",
    "                zs.append(complex(xcoord, ycoord))\n",
    "                cs.append(complex(c_real, c_imag))\n",
    "        return cs, \n",
    "    \n",
    "    \n",
    "    \n",
    "    "
   ]
  },
  {
   "cell_type": "markdown",
   "metadata": {},
   "source": [
    "(myenv) erik@MBPsomthorErik3 Assignment 2 % pytest test_JuliaSet.py  \n",
    "======================================= test session starts ========================================\n",
    "platform darwin -- Python 3.11.3, pytest-8.3.4, pluggy-1.5.0\n",
    "rootdir: /Users/erik/Desktop/Intro-to-high-performance-computing-group-11/Assignment 2\n",
    "plugins: anyio-4.2.0\n",
    "collected 1 item                                                                                   \n",
    "\n",
    "test_JuliaSet.py .                                                                           [100%]\n",
    "\n",
    "======================================== 1 passed in 2.31s ========================================="
   ]
  },
  {
   "cell_type": "markdown",
   "metadata": {},
   "source": [
    "#Task 1.2: "
   ]
  },
  {
   "cell_type": "code",
   "execution_count": null,
   "metadata": {
    "vscode": {
     "languageId": "plaintext"
    }
   },
   "outputs": [],
   "source": [
    "import pytest\n",
    "from JuliaSetSecond import calculate_z_serial_purepython\n",
    "\n",
    "class TestJuliaSet:\n",
    "    @pytest.mark.parametrize(\n",
    "        \"max_iterations, desired_width, expected_sum\",\n",
    "        [\n",
    "            (300, 1000, 33219980),  # Example: original test case\n",
    "            (200, 500, 8309980)   # Example: idk what to put to make it work\n",
    "        ]\n",
    "    )\n",
    "    def test_sum(self, max_iterations, desired_width, expected_sum):\n",
    "        cs, zs = self.gen_var(desired_width)\n",
    "        output = calculate_z_serial_purepython(max_iterations, zs, cs)\n",
    "        assert sum(output) == expected_sum\n",
    "\n",
    "    def gen_var(self, desired_width):\n",
    "        x1, x2, y1, y2 = -1.8, 1.8, -1.8, 1.8\n",
    "        c_real, c_imag = -0.62772, -0.42193\n",
    "\n",
    "        x_step = (x2 - x1) / desired_width\n",
    "        y_step = (y1 - y2) / desired_width\n",
    "\n",
    "        x = []\n",
    "        y = []\n",
    "\n",
    "        ycoord = y2\n",
    "        while ycoord > y1:\n",
    "            y.append(ycoord)\n",
    "            ycoord += y_step\n",
    "\n",
    "        xcoord = x1\n",
    "        while xcoord < x2:\n",
    "            x.append(xcoord)\n",
    "            xcoord += x_step\n",
    "\n",
    "        zs = []\n",
    "        cs = []\n",
    "\n",
    "        for ycoord in y:\n",
    "            for xcoord in x:\n",
    "                zs.append(complex(xcoord, ycoord))\n",
    "                cs.append(complex(c_real, c_imag))\n",
    "\n",
    "        return cs, zs\n"
   ]
  },
  {
   "cell_type": "markdown",
   "metadata": {},
   "source": [
    "(myenv) erik@MBPsomthorErik3 Assignment 2 % pytest test_JuliaSet.py\n",
    "======================================= test session starts ========================================\n",
    "platform darwin -- Python 3.11.3, pytest-8.3.4, pluggy-1.5.0\n",
    "rootdir: /Users/erik/Desktop/Intro-to-high-performance-computing-group-11/Assignment 2\n",
    "plugins: anyio-4.2.0\n",
    "collected 2 items                                                                                  \n",
    "\n",
    "test_JuliaSet.py .F                                                                          [100%]\n",
    "\n",
    "============================================= FAILURES =============================================\n",
    "______________________________ TestJuliaSet.test_sum[200-500-8309980] ______________________________\n",
    "\n",
    "self = <test_JuliaSet.TestJuliaSet object at 0x1010788d0>, max_iterations = 200, desired_width = 500\n",
    "expected_sum = 8309980\n",
    "\n",
    "    @pytest.mark.parametrize(\n",
    "        \"max_iterations, desired_width, expected_sum\",\n",
    "        [\n",
    "            (300, 1000, 33219980),  # Example: original test case\n",
    "            (200, 500, 8309980)   # Example: idk what to put to make it work\n",
    "        ]\n",
    "    )\n",
    "    def test_sum(self, max_iterations, desired_width, expected_sum):\n",
    "        cs, zs = self.gen_var(desired_width)\n",
    "        output = calculate_z_serial_purepython(max_iterations, zs, cs)\n",
    ">       assert sum(output) == expected_sum\n",
    "E       assert 5798200 == 8309980\n",
    "E        +  where 5798200 = sum([0, 0, 0, 0, 0, 0, ...])\n",
    "\n",
    "test_JuliaSet.py:15: AssertionError\n",
    "--------------------------------------- Captured stdout call ---------------------------------------\n",
    "@timefn: calculate_z_serial_purepython took 0.36625333299161866 seconds\n",
    "===================================== short test summary info ======================================\n",
    "FAILED test_JuliaSet.py::TestJuliaSet::test_sum[200-500-8309980] - assert 5798200 == 8309980\n",
    "=================================== 1 failed, 1 passed in 2.72s ===================================="
   ]
  },
  {
   "cell_type": "markdown",
   "metadata": {},
   "source": [
    "## Exercise 3\n",
    "\n",
    "Advantages: It lets me step through my code line by line, so I can see exactly where things go wrong. I can also inspect variables at different points, which helps a lot with figuring out unexpected behavior. It’s much faster than just printing everything out and guessing where the issue is.  \n",
    "\n",
    "Disadvantages: The command-line interface of `pdb` isn’t beginner-friendly. Remembering all the commands took a lot of effort, and sometimes I had to restart my debugging session when I messed up. It doesn’t have a GUI, so it’s not as intuitive as visual debuggers like those in PyCharm or VS Code, where you can set breakpoints and see variable values more easily."
   ]
  }
 ],
 "metadata": {
  "language_info": {
   "name": "python"
  }
 },
 "nbformat": 4,
 "nbformat_minor": 2
}
