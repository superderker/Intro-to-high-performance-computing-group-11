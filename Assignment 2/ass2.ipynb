{
 "cells": [
  {
   "cell_type": "code",
   "execution_count": null,
   "metadata": {},
   "outputs": [],
   "source": [
    "import pytest\n",
    "from JuliaSetSecond import calculate_z_serial_purepython\n",
    "class TestJuliaSet:\n",
    "    def test_sum(self):\n",
    "        cs, zs = self.gen_var()\n",
    "        max_iterations = 300\n",
    "        output = calculate_z_serial_purepython(max_iterations, zs, cs)\n",
    "        assert sum(output) == 33219980\n",
    "    def gen_var(self):\n",
    "        desired_width = 1000\n",
    "        x1, x2, y1, y2 = -1.8, 1.8, -1.8, 1.8\n",
    "        c_real, c_imag = -0.62772, -.42193\n",
    "        \"\"\"Create a list of complex coordinates (zs) and complex parameters (cs),\n",
    "        build Julia set\"\"\"\n",
    "        x_step = (x2 - x1) / desired_width\n",
    "        y_step = (y1 - y2) / desired_width\n",
    "        x = []\n",
    "        y = []\n",
    "        ycoord = y2\n",
    "        while ycoord > y1:\n",
    "            y.append(ycoord)\n",
    "            ycoord += y_step\n",
    "        xcoord = x1\n",
    "        while xcoord < x2:\n",
    "            x.append(xcoord)\n",
    "            xcoord += x_step\n",
    "        # build a list of coordinates and the initial condition for each cell.\n",
    "        # Note that our initial condition is a constant and could easily be removed,\n",
    "        # we use it to simulate a real-world scenario with several inputs to our\n",
    "        # function\n",
    "        zs = []\n",
    "        cs = []\n",
    "        for ycoord in y:\n",
    "            for xcoord in x:\n",
    "                zs.append(complex(xcoord, ycoord))\n",
    "                cs.append(complex(c_real, c_imag))\n",
    "        return cs, \n",
    "    \n",
    "    \n",
    "    \n",
    "    "
   ]
  },
  {
   "cell_type": "markdown",
   "metadata": {},
   "source": [
    "(myenv) erik@MBPsomthorErik3 Assignment 2 % pytest test_JuliaSet.py  \n",
    "======================================= test session starts ========================================\n",
    "platform darwin -- Python 3.11.3, pytest-8.3.4, pluggy-1.5.0\n",
    "rootdir: /Users/erik/Desktop/Intro-to-high-performance-computing-group-11/Assignment 2\n",
    "plugins: anyio-4.2.0\n",
    "collected 1 item                                                                                   \n",
    "\n",
    "test_JuliaSet.py .                                                                           [100%]\n",
    "\n",
    "======================================== 1 passed in 2.31s ========================================="
   ]
  },
  {
   "cell_type": "markdown",
   "metadata": {},
   "source": [
    "#Task 1.2: "
   ]
  },
  {
   "cell_type": "code",
   "execution_count": null,
   "metadata": {},
   "outputs": [],
   "source": [
    "import pytest\n",
    "from JuliaSetSecond import calculate_z_serial_purepython\n",
    "\n",
    "class TestJuliaSet:\n",
    "    @pytest.mark.parametrize(\n",
    "        \"max_iterations, desired_width, expected_sum\",\n",
    "        [\n",
    "            (300, 1000, 33219980),  # Example: original test case\n",
    "            (200, 500, 8309980)   # Example: idk what to put to make it work\n",
    "        ]\n",
    "    )\n",
    "    def test_sum(self, max_iterations, desired_width, expected_sum):\n",
    "        cs, zs = self.gen_var(desired_width)\n",
    "        output = calculate_z_serial_purepython(max_iterations, zs, cs)\n",
    "        assert sum(output) == expected_sum\n",
    "\n",
    "    def gen_var(self, desired_width):\n",
    "        x1, x2, y1, y2 = -1.8, 1.8, -1.8, 1.8\n",
    "        c_real, c_imag = -0.62772, -0.42193\n",
    "\n",
    "        x_step = (x2 - x1) / desired_width\n",
    "        y_step = (y1 - y2) / desired_width\n",
    "\n",
    "        x = []\n",
    "        y = []\n",
    "\n",
    "        ycoord = y2\n",
    "        while ycoord > y1:\n",
    "            y.append(ycoord)\n",
    "            ycoord += y_step\n",
    "\n",
    "        xcoord = x1\n",
    "        while xcoord < x2:\n",
    "            x.append(xcoord)\n",
    "            xcoord += x_step\n",
    "\n",
    "        zs = []\n",
    "        cs = []\n",
    "\n",
    "        for ycoord in y:\n",
    "            for xcoord in x:\n",
    "                zs.append(complex(xcoord, ycoord))\n",
    "                cs.append(complex(c_real, c_imag))\n",
    "\n",
    "        return cs, zs\n"
   ]
  },
  {
   "cell_type": "markdown",
   "metadata": {},
   "source": [
    "(myenv) erik@MBPsomthorErik3 Assignment 2 % pytest test_JuliaSet.py\n",
    "======================================= test session starts ========================================\n",
    "platform darwin -- Python 3.11.3, pytest-8.3.4, pluggy-1.5.0\n",
    "rootdir: /Users/erik/Desktop/Intro-to-high-performance-computing-group-11/Assignment 2\n",
    "plugins: anyio-4.2.0\n",
    "collected 2 items                                                                                  \n",
    "\n",
    "test_JuliaSet.py .F                                                                          [100%]\n",
    "\n",
    "============================================= FAILURES =============================================\n",
    "______________________________ TestJuliaSet.test_sum[200-500-8309980] ______________________________\n",
    "\n",
    "self = <test_JuliaSet.TestJuliaSet object at 0x1010788d0>, max_iterations = 200, desired_width = 500\n",
    "expected_sum = 8309980\n",
    "\n",
    "    @pytest.mark.parametrize(\n",
    "        \"max_iterations, desired_width, expected_sum\",\n",
    "        [\n",
    "            (300, 1000, 33219980),  # Example: original test case\n",
    "            (200, 500, 8309980)   # Example: idk what to put to make it work\n",
    "        ]\n",
    "    )\n",
    "    def test_sum(self, max_iterations, desired_width, expected_sum):\n",
    "        cs, zs = self.gen_var(desired_width)\n",
    "        output = calculate_z_serial_purepython(max_iterations, zs, cs)\n",
    ">       assert sum(output) == expected_sum\n",
    "E       assert 5798200 == 8309980\n",
    "E        +  where 5798200 = sum([0, 0, 0, 0, 0, 0, ...])\n",
    "\n",
    "test_JuliaSet.py:15: AssertionError\n",
    "--------------------------------------- Captured stdout call ---------------------------------------\n",
    "@timefn: calculate_z_serial_purepython took 0.36625333299161866 seconds\n",
    "===================================== short test summary info ======================================\n",
    "FAILED test_JuliaSet.py::TestJuliaSet::test_sum[200-500-8309980] - assert 5798200 == 8309980\n",
    "=================================== 1 failed, 1 passed in 2.72s ===================================="
   ]
  },
  {
   "cell_type": "markdown",
   "metadata": {},
   "source": [
    "## Exercise 3\n",
    "\n",
    "Advantages: It lets me step through my code line by line, so I can see exactly where things go wrong. I can also inspect variables at different points, which helps a lot with figuring out unexpected behavior. It’s much faster than just printing everything out and guessing where the issue is.  \n",
    "\n",
    "Disadvantages: The command-line interface of `pdb` isn’t beginner-friendly. Remembering all the commands took a lot of effort, and sometimes I had to restart my debugging session when I messed up. It doesn’t have a GUI, so it’s not as intuitive as visual debuggers like those in PyCharm or VS Code, where you can set breakpoints and see variable values more easily."
   ]
  },
  {
   "cell_type": "markdown",
   "metadata": {},
   "source": [
    "# Bonus Exercise\n",
    "\n",
    "## Task B.1 \n",
    "\n",
    "Check the code with a linter, and in case, run an auto-formatter. Produce HTML documentation running sphinx."
   ]
  },
  {
   "cell_type": "code",
   "execution_count": 2,
   "metadata": {},
   "outputs": [
    {
     "name": "stdout",
     "output_type": "stream",
     "text": [
      "conway_perf.py:1:1: F401 'sys' imported but unused\n",
      "conway_perf.py:1:11: E401 multiple imports on one line\n",
      "conway_perf.py:8:1: E302 expected 2 blank lines, found 1\n",
      "conway_perf.py:12:1: E302 expected 2 blank lines, found 1\n",
      "conway_perf.py:14:39: W291 trailing whitespace\n",
      "conway_perf.py:15:39: W291 trailing whitespace\n",
      "conway_perf.py:19:1: E302 expected 2 blank lines, found 1\n",
      "conway_perf.py:42:1: E302 expected 2 blank lines, found 1\n",
      "conway_perf.py:47:39: E228 missing whitespace around modulo operator\n",
      "conway_perf.py:47:58: E228 missing whitespace around modulo operator\n",
      "conway_perf.py:47:63: W291 trailing whitespace\n",
      "conway_perf.py:48:36: E228 missing whitespace around modulo operator\n",
      "conway_perf.py:48:55: E228 missing whitespace around modulo operator\n",
      "conway_perf.py:48:63: W291 trailing whitespace\n",
      "conway_perf.py:49:36: E228 missing whitespace around modulo operator\n",
      "conway_perf.py:49:45: E228 missing whitespace around modulo operator\n",
      "conway_perf.py:49:61: E228 missing whitespace around modulo operator\n",
      "conway_perf.py:49:70: E228 missing whitespace around modulo operator\n",
      "conway_perf.py:49:75: W291 trailing whitespace\n",
      "conway_perf.py:50:36: E228 missing whitespace around modulo operator\n",
      "conway_perf.py:50:45: E228 missing whitespace around modulo operator\n",
      "conway_perf.py:50:61: E228 missing whitespace around modulo operator\n",
      "conway_perf.py:50:70: E228 missing whitespace around modulo operator\n",
      "conway_perf.py:59:1: E302 expected 2 blank lines, found 1\n",
      "conway_perf.py:60:80: E501 line too long (90 > 79 characters)\n",
      "conway_perf.py:61:80: E501 line too long (87 > 79 characters)\n",
      "conway_perf.py:62:80: E501 line too long (87 > 79 characters)\n",
      "conway_perf.py:66:1: W293 blank line contains whitespace\n",
      "conway_perf.py:69:1: W293 blank line contains whitespace\n",
      "conway_perf.py:77:1: W293 blank line contains whitespace\n",
      "conway_perf.py:80:1: W293 blank line contains whitespace\n",
      "conway_perf.py:83:1: E305 expected 2 blank lines after class or function definition, found 1\n"
     ]
    }
   ],
   "source": [
    "!flake8 conway_perf.py"
   ]
  },
  {
   "cell_type": "code",
   "execution_count": 4,
   "metadata": {},
   "outputs": [
    {
     "name": "stderr",
     "output_type": "stream",
     "text": [
      "reformatted conway_perf.py\n",
      "\n",
      "All done! ✨ 🍰 ✨\n",
      "1 file reformatted.\n"
     ]
    }
   ],
   "source": [
    "!black conway_perf.py\n"
   ]
  },
  {
   "cell_type": "markdown",
   "metadata": {},
   "source": [
    "See docs/build/html for HTML documentation generated using sphinx"
   ]
  },
  {
   "cell_type": "markdown",
   "metadata": {},
   "source": [
    "## Task B.2"
   ]
  },
  {
   "cell_type": "code",
   "execution_count": 5,
   "metadata": {},
   "outputs": [
    {
     "name": "stdout",
     "output_type": "stream",
     "text": [
      "Grid size: 50x50, Execution time: 0.000674 seconds\n",
      "Grid size: 50x50, Execution time: 0.000649 seconds\n",
      "Grid size: 50x50, Execution time: 0.000738 seconds\n",
      "Grid size: 50x50, Execution time: 0.000799 seconds\n",
      "Grid size: 50x50, Execution time: 0.000621 seconds\n",
      "Grid size: 100x100, Execution time: 0.000732 seconds\n",
      "Grid size: 100x100, Execution time: 0.000772 seconds\n",
      "Grid size: 100x100, Execution time: 0.000814 seconds\n",
      "Grid size: 100x100, Execution time: 0.000741 seconds\n",
      "Grid size: 100x100, Execution time: 0.000773 seconds\n",
      "Grid size: 150x150, Execution time: 0.002104 seconds\n",
      "Grid size: 150x150, Execution time: 0.001013 seconds\n",
      "Grid size: 150x150, Execution time: 0.001036 seconds\n",
      "Grid size: 150x150, Execution time: 0.001161 seconds\n",
      "Grid size: 150x150, Execution time: 0.000901 seconds\n",
      "Grid size: 200x200, Execution time: 0.001204 seconds\n",
      "Grid size: 200x200, Execution time: 0.001444 seconds\n",
      "Grid size: 200x200, Execution time: 0.001340 seconds\n",
      "Grid size: 200x200, Execution time: 0.001725 seconds\n",
      "Grid size: 200x200, Execution time: 0.001281 seconds\n",
      "Grid size: 250x250, Execution time: 0.001694 seconds\n",
      "Grid size: 250x250, Execution time: 0.001700 seconds\n",
      "Grid size: 250x250, Execution time: 0.001662 seconds\n",
      "Grid size: 250x250, Execution time: 0.001621 seconds\n",
      "Grid size: 250x250, Execution time: 0.001905 seconds\n",
      "Grid size: 300x300, Execution time: 0.002506 seconds\n",
      "Grid size: 300x300, Execution time: 0.002606 seconds\n",
      "Grid size: 300x300, Execution time: 0.003005 seconds\n",
      "Grid size: 300x300, Execution time: 0.002050 seconds\n",
      "Grid size: 300x300, Execution time: 0.002073 seconds\n",
      "Grid size: 350x350, Execution time: 0.002795 seconds\n",
      "Grid size: 350x350, Execution time: 0.003176 seconds\n",
      "Grid size: 350x350, Execution time: 0.003330 seconds\n",
      "Grid size: 350x350, Execution time: 0.002688 seconds\n",
      "Grid size: 350x350, Execution time: 0.002972 seconds\n",
      "Grid size: 400x400, Execution time: 0.003962 seconds\n",
      "Grid size: 400x400, Execution time: 0.004234 seconds\n",
      "Grid size: 400x400, Execution time: 0.003231 seconds\n",
      "Grid size: 400x400, Execution time: 0.003289 seconds\n",
      "Grid size: 400x400, Execution time: 0.003550 seconds\n",
      "Grid size: 450x450, Execution time: 0.004661 seconds\n",
      "Grid size: 450x450, Execution time: 0.003823 seconds\n",
      "Grid size: 450x450, Execution time: 0.004349 seconds\n",
      "Grid size: 450x450, Execution time: 0.003774 seconds\n",
      "Grid size: 450x450, Execution time: 0.003748 seconds\n",
      "Grid size: 500x500, Execution time: 0.004684 seconds\n",
      "Grid size: 500x500, Execution time: 0.004372 seconds\n",
      "Grid size: 500x500, Execution time: 0.004461 seconds\n",
      "Grid size: 500x500, Execution time: 0.004457 seconds\n",
      "Grid size: 500x500, Execution time: 0.004444 seconds\n"
     ]
    },
    {
     "data": {
      "image/png": "[encoded data removed]",
      "text/plain": [
       "<Figure size 800x600 with 1 Axes>"
      ]
     },
     "metadata": {},
     "output_type": "display_data"
    }
   ],
   "source": [
    "import subprocess\n",
    "import matplotlib.pyplot as plt\n",
    "\n",
    "def run_program(grid_size):\n",
    "    command = [\"python\", \"conway_perf.py\", \"--grid-size\", str(grid_size)]\n",
    "    \n",
    "    result = subprocess.run(command, capture_output=True, text=True)\n",
    "    return result.stdout, result.stderr\n",
    "\n",
    "\n",
    "iteration = 5\n",
    "grid_sizes = range(100, 1001, 100)\n",
    "execution_times = []\n",
    "for size in grid_sizes:\n",
    "    tempt_times = []\n",
    "    for i in range(iteration):\n",
    "        stdout, stderr = run_program(size)\n",
    "        if stderr:\n",
    "            print(\"Error:\", stderr)\n",
    "        else:\n",
    "            time_taken = float(stdout.strip().split()[-1])  # Assuming last output is execution time\n",
    "            print(f\"Grid size: {size}x{size}, Execution time: {time_taken:.6f} seconds\")\n",
    "            tempt_times.append(time_taken)\n",
    "    execution_times.append(sum(tempt_times) / iteration)\n",
    "\n",
    "# Plot results\n",
    "plt.figure(figsize=(8, 6))\n",
    "plt.plot(grid_sizes, execution_times, marker='o', linestyle='-', color='b')\n",
    "plt.xlabel(\"Grid Size (N x N)\")\n",
    "plt.ylabel(\"Execution Time (seconds)\")\n",
    "plt.title(\"Execution Time vs Grid Size\")\n",
    "plt.grid(True)\n",
    "plt.show()"
   ]
  }
 ],
 "metadata": {
  "kernelspec": {
   "display_name": "py37data",
   "language": "python",
   "name": "python3"
  },
  "language_info": {
   "codemirror_mode": {
    "name": "ipython",
    "version": 3
   },
   "file_extension": ".py",
   "mimetype": "text/x-python",
   "name": "python",
   "nbconvert_exporter": "python",
   "pygments_lexer": "ipython3",
   "version": "3.7.16"
  }
 },
 "nbformat": 4,
 "nbformat_minor": 2
}
