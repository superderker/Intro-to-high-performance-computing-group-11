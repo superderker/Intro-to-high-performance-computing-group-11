{
 "cells": [
  {
   "cell_type": "code",
   "execution_count": null,
   "metadata": {},
   "outputs": [],
   "source": [
    "import pytest\n",
    "from JuliaSetSecond import calculate_z_serial_purepython\n",
    "class TestJuliaSet:\n",
    "    def test_sum(self):\n",
    "        cs, zs = self.gen_var()\n",
    "        max_iterations = 300\n",
    "        output = calculate_z_serial_purepython(max_iterations, zs, cs)\n",
    "        assert sum(output) == 33219980\n",
    "    def gen_var(self):\n",
    "        desired_width = 1000\n",
    "        x1, x2, y1, y2 = -1.8, 1.8, -1.8, 1.8\n",
    "        c_real, c_imag = -0.62772, -.42193\n",
    "        \"\"\"Create a list of complex coordinates (zs) and complex parameters (cs),\n",
    "        build Julia set\"\"\"\n",
    "        x_step = (x2 - x1) / desired_width\n",
    "        y_step = (y1 - y2) / desired_width\n",
    "        x = []\n",
    "        y = []\n",
    "        ycoord = y2\n",
    "        while ycoord > y1:\n",
    "            y.append(ycoord)\n",
    "            ycoord += y_step\n",
    "        xcoord = x1\n",
    "        while xcoord < x2:\n",
    "            x.append(xcoord)\n",
    "            xcoord += x_step\n",
    "        # build a list of coordinates and the initial condition for each cell.\n",
    "        # Note that our initial condition is a constant and could easily be removed,\n",
    "        # we use it to simulate a real-world scenario with several inputs to our\n",
    "        # function\n",
    "        zs = []\n",
    "        cs = []\n",
    "        for ycoord in y:\n",
    "            for xcoord in x:\n",
    "                zs.append(complex(xcoord, ycoord))\n",
    "                cs.append(complex(c_real, c_imag))\n",
    "        return cs, \n",
    "    \n",
    "    \n",
    "    \n",
    "    "
   ]
  },
  {
   "cell_type": "markdown",
   "metadata": {},
   "source": [
    "(myenv) erik@MBPsomthorErik3 Assignment 2 % pytest test_JuliaSet.py  \n",
    "======================================= test session starts ========================================\n",
    "platform darwin -- Python 3.11.3, pytest-8.3.4, pluggy-1.5.0\n",
    "rootdir: /Users/erik/Desktop/Intro-to-high-performance-computing-group-11/Assignment 2\n",
    "plugins: anyio-4.2.0\n",
    "collected 1 item                                                                                   \n",
    "\n",
    "test_JuliaSet.py .                                                                           [100%]\n",
    "\n",
    "======================================== 1 passed in 2.31s ========================================="
   ]
  },
  {
   "cell_type": "markdown",
   "metadata": {},
   "source": [
    "#Task 1.2: "
   ]
  },
  {
   "cell_type": "code",
   "execution_count": null,
   "metadata": {},
   "outputs": [],
   "source": [
    "import pytest\n",
    "from JuliaSetSecond import calculate_z_serial_purepython\n",
    "\n",
    "class TestJuliaSet:\n",
    "    @pytest.mark.parametrize(\n",
    "        \"max_iterations, desired_width, expected_sum\",\n",
    "        [\n",
    "            (300, 1000, 33219980),  # Example: original test case\n",
    "            (200, 500, 8309980)   # Example: idk what to put to make it work\n",
    "        ]\n",
    "    )\n",
    "    def test_sum(self, max_iterations, desired_width, expected_sum):\n",
    "        cs, zs = self.gen_var(desired_width)\n",
    "        output = calculate_z_serial_purepython(max_iterations, zs, cs)\n",
    "        assert sum(output) == expected_sum\n",
    "\n",
    "    def gen_var(self, desired_width):\n",
    "        x1, x2, y1, y2 = -1.8, 1.8, -1.8, 1.8\n",
    "        c_real, c_imag = -0.62772, -0.42193\n",
    "\n",
    "        x_step = (x2 - x1) / desired_width\n",
    "        y_step = (y1 - y2) / desired_width\n",
    "\n",
    "        x = []\n",
    "        y = []\n",
    "\n",
    "        ycoord = y2\n",
    "        while ycoord > y1:\n",
    "            y.append(ycoord)\n",
    "            ycoord += y_step\n",
    "\n",
    "        xcoord = x1\n",
    "        while xcoord < x2:\n",
    "            x.append(xcoord)\n",
    "            xcoord += x_step\n",
    "\n",
    "        zs = []\n",
    "        cs = []\n",
    "\n",
    "        for ycoord in y:\n",
    "            for xcoord in x:\n",
    "                zs.append(complex(xcoord, ycoord))\n",
    "                cs.append(complex(c_real, c_imag))\n",
    "\n",
    "        return cs, zs\n"
   ]
  },
  {
   "cell_type": "markdown",
   "metadata": {},
   "source": [
    "(myenv) erik@MBPsomthorErik3 Assignment 2 % pytest test_JuliaSet.py\n",
    "======================================= test session starts ========================================\n",
    "platform darwin -- Python 3.11.3, pytest-8.3.4, pluggy-1.5.0\n",
    "rootdir: /Users/erik/Desktop/Intro-to-high-performance-computing-group-11/Assignment 2\n",
    "plugins: anyio-4.2.0\n",
    "collected 2 items                                                                                  \n",
    "\n",
    "test_JuliaSet.py .F                                                                          [100%]\n",
    "\n",
    "============================================= FAILURES =============================================\n",
    "______________________________ TestJuliaSet.test_sum[200-500-8309980] ______________________________\n",
    "\n",
    "self = <test_JuliaSet.TestJuliaSet object at 0x1010788d0>, max_iterations = 200, desired_width = 500\n",
    "expected_sum = 8309980\n",
    "\n",
    "    @pytest.mark.parametrize(\n",
    "        \"max_iterations, desired_width, expected_sum\",\n",
    "        [\n",
    "            (300, 1000, 33219980),  # Example: original test case\n",
    "            (200, 500, 8309980)   # Example: idk what to put to make it work\n",
    "        ]\n",
    "    )\n",
    "    def test_sum(self, max_iterations, desired_width, expected_sum):\n",
    "        cs, zs = self.gen_var(desired_width)\n",
    "        output = calculate_z_serial_purepython(max_iterations, zs, cs)\n",
    ">       assert sum(output) == expected_sum\n",
    "E       assert 5798200 == 8309980\n",
    "E        +  where 5798200 = sum([0, 0, 0, 0, 0, 0, ...])\n",
    "\n",
    "test_JuliaSet.py:15: AssertionError\n",
    "--------------------------------------- Captured stdout call ---------------------------------------\n",
    "@timefn: calculate_z_serial_purepython took 0.36625333299161866 seconds\n",
    "===================================== short test summary info ======================================\n",
    "FAILED test_JuliaSet.py::TestJuliaSet::test_sum[200-500-8309980] - assert 5798200 == 8309980\n",
    "=================================== 1 failed, 1 passed in 2.72s ===================================="
   ]
  },
  {
   "cell_type": "markdown",
   "metadata": {},
   "source": [
    "## Exercise 3\n",
    "\n",
    "Advantages: It lets me step through my code line by line, so I can see exactly where things go wrong. I can also inspect variables at different points, which helps a lot with figuring out unexpected behavior. It’s much faster than just printing everything out and guessing where the issue is.  \n",
    "\n",
    "Disadvantages: The command-line interface of `pdb` isn’t beginner-friendly. Remembering all the commands took a lot of effort, and sometimes I had to restart my debugging session when I messed up. It doesn’t have a GUI, so it’s not as intuitive as visual debuggers like those in PyCharm or VS Code, where you can set breakpoints and see variable values more easily."
   ]
  },
  {
   "cell_type": "markdown",
   "metadata": {},
   "source": [
    "# Bonus Exercise\n",
    "\n",
    "## Task B.1 \n",
    "\n",
    "Check the code with a linter, and in case, run an auto-formatter. Produce HTML documentation running sphinx."
   ]
  },
  {
   "cell_type": "code",
   "execution_count": 2,
   "metadata": {},
   "outputs": [
    {
     "name": "stdout",
     "output_type": "stream",
     "text": [
      "conway_perf.py:2:10: W291 trailing whitespace\n",
      "conway_perf.py:9:1: F401 'sys' imported but unused\n",
      "conway_perf.py:9:11: E401 multiple imports on one line\n",
      "conway_perf.py:11:1: F401 'matplotlib.pyplot as plt' imported but unused\n",
      "conway_perf.py:12:1: F401 'matplotlib.animation' imported but unused\n",
      "conway_perf.py:28:11: E203 whitespace before ':'\n",
      "conway_perf.py:28:22: E203 whitespace before ':'\n",
      "conway_perf.py:57:11: E203 whitespace before ':'\n",
      "conway_perf.py:57:23: E203 whitespace before ':'\n"
     ]
    }
   ],
   "source": [
    "!flake8 conway_perf.py"
   ]
  },
  {
   "cell_type": "code",
   "execution_count": 3,
   "metadata": {},
   "outputs": [
    {
     "name": "stderr",
     "output_type": "stream",
     "text": [
      "All done! ✨ 🍰 ✨\n",
      "1 file left unchanged.\n"
     ]
    }
   ],
   "source": [
    "!black conway_perf.py\n"
   ]
  },
  {
   "cell_type": "markdown",
   "metadata": {},
   "source": [
    "See docs/build/html for HTML documentation generated using sphinx"
   ]
  },
  {
   "cell_type": "markdown",
   "metadata": {},
   "source": [
    "## Task B.2"
   ]
  },
  {
   "cell_type": "markdown",
   "metadata": {},
   "source": [
    "The iteration is fixed to 100"
   ]
  },
  {
   "cell_type": "code",
   "execution_count": 10,
   "metadata": {},
   "outputs": [
    {
     "name": "stdout",
     "output_type": "stream",
     "text": [
      "Grid size: 10x10, Execution time: 0.014580 seconds\n",
      "Grid size: 20x20, Execution time: 0.058829 seconds\n",
      "Grid size: 30x30, Execution time: 0.128271 seconds\n",
      "Grid size: 40x40, Execution time: 0.218789 seconds\n",
      "Grid size: 50x50, Execution time: 0.364365 seconds\n",
      "Grid size: 60x60, Execution time: 0.526757 seconds\n",
      "Grid size: 70x70, Execution time: 0.712879 seconds\n",
      "Grid size: 80x80, Execution time: 0.929244 seconds\n",
      "Grid size: 90x90, Execution time: 1.204439 seconds\n",
      "Grid size: 100x100, Execution time: 1.474283 seconds\n"
     ]
    },
    {
     "data": {
      "image/png": "[encoded data removed]",
      "text/plain": [
       "<Figure size 800x600 with 1 Axes>"
      ]
     },
     "metadata": {},
     "output_type": "display_data"
    }
   ],
   "source": [
    "import subprocess\n",
    "import matplotlib.pyplot as plt\n",
    "\n",
    "def run_program(grid_size):\n",
    "    command = [\"python\", \"conway_perf.py\", \"--grid-size\", str(grid_size), \"--iterations\", \"100\"]\n",
    "    \n",
    "    result = subprocess.run(command, capture_output=True, text=True)\n",
    "    return result.stdout, result.stderr\n",
    "\n",
    "\n",
    "iteration = 5\n",
    "grid_sizes = range(10, 101, 10)\n",
    "execution_times = []\n",
    "for size in grid_sizes:\n",
    "    stdout, stderr = run_program(size)\n",
    "    if stderr:\n",
    "        print(\"Error:\", stderr)\n",
    "    else:\n",
    "        time_taken = float(stdout.strip().split()[-1])  # Assuming last output is execution time\n",
    "        print(f\"Grid size: {size}x{size}, Execution time: {time_taken:.6f} seconds\")\n",
    "    execution_times.append(time_taken)\n",
    "\n",
    "# Plot results\n",
    "plt.figure(figsize=(8, 6))\n",
    "plt.plot(grid_sizes, execution_times, marker='o', linestyle='-', color='b')\n",
    "plt.xlabel(\"Grid Size (N x N)\")\n",
    "plt.ylabel(\"Execution Time (seconds)\")\n",
    "plt.title(\"Execution Time vs Grid Size\")\n",
    "plt.grid(True)\n",
    "plt.show()"
   ]
  },
  {
   "cell_type": "markdown",
   "metadata": {},
   "source": [
    "## Task B.3\n",
    "### Before optimization"
   ]
  },
  {
   "cell_type": "markdown",
   "metadata": {},
   "source": [
    "#### Total Execution Time"
   ]
  },
  {
   "cell_type": "code",
   "execution_count": 2,
   "metadata": {
    "ExecuteTime": {
     "end_time": "2025-02-02T16:57:44.519081Z",
     "start_time": "2025-02-02T16:57:42.621300Z"
    }
   },
   "outputs": [
    {
     "name": "stdout",
     "output_type": "stream",
     "text": [
      "Time:  1.557161584001733\r\n",
      "python3 conway_perf.py  0.90s user 0.03s system 52% cpu 1.777 total\r\n"
     ]
    }
   ],
   "source": [
    "3\n",
    "#### Line profiler"
   ]
  },
  {
   "cell_type": "markdown",
   "metadata": {},
   "source": [
    "#### Line profiler"
   ]
  },
  {
   "cell_type": "code",
   "execution_count": 34,
   "metadata": {
    "ExecuteTime": {
     "end_time": "2025-02-02T17:42:30.663799Z",
     "start_time": "2025-02-02T17:42:25.553794Z"
    }
   },
   "outputs": [
    {
     "name": "stdout",
     "output_type": "stream",
     "text": [
      "Time:  4.73496245899878\r\n",
      "Wrote profile results to conway_perf.py.lprof\r\n",
      "Inspect results with:\r\n",
      "python3 -m line_profiler -rmt \"conway_perf.py.lprof\"\r\n"
     ]
    }
   ],
   "source": [
    "!python3 -m kernprof -l conway_perf.py"
   ]
  },
  {
   "cell_type": "code",
   "execution_count": 35,
   "metadata": {
    "ExecuteTime": {
     "end_time": "2025-02-02T17:42:32.004934Z",
     "start_time": "2025-02-02T17:42:31.840623Z"
    }
   },
   "outputs": [
    {
     "name": "stdout",
     "output_type": "stream",
     "text": [
      "Timer unit: 1e-06 s\r\n",
      "\r\n",
      "Total time: 0 s\r\n",
      "File: conway_perf.py\r\n",
      "Function: addGlider at line 24\r\n",
      "\r\n",
      "Line #      Hits         Time  Per Hit   % Time  Line Contents\r\n",
      "==============================================================\r\n",
      "    24                                           @profile\r\n",
      "    25                                           def addGlider(i, j, grid):\r\n",
      "    26                                               \"\"\"adds a glider with top left cell at (i, j)\"\"\"\r\n",
      "    27                                               glider = np.array([[0, 0, 255], [255, 0, 255], [0, 255, 255]])\r\n",
      "    28                                               grid[i : i + 3, j : j + 3] = glider\r\n",
      "\r\n",
      "Total time: 0 s\r\n",
      "File: conway_perf.py\r\n",
      "Function: addGosperGliderGun at line 30\r\n",
      "\r\n",
      "Line #      Hits         Time  Per Hit   % Time  Line Contents\r\n",
      "==============================================================\r\n",
      "    30                                           @profile\r\n",
      "    31                                           def addGosperGliderGun(i, j, grid):\r\n",
      "    32                                               \"\"\"adds a Gosper Glider Gun with top left cell at (i, j)\"\"\"\r\n",
      "    33                                               gun = np.zeros(11 * 38).reshape(11, 38)\r\n",
      "    34                                           \r\n",
      "    35                                               gun[5][1] = gun[5][2] = 255\r\n",
      "    36                                               gun[6][1] = gun[6][2] = 255\r\n",
      "    37                                           \r\n",
      "    38                                               gun[3][13] = gun[3][14] = 255\r\n",
      "    39                                               gun[4][12] = gun[4][16] = 255\r\n",
      "    40                                               gun[5][11] = gun[5][17] = 255\r\n",
      "    41                                               gun[6][11] = gun[6][15] = gun[6][17] = gun[6][18] = 255\r\n",
      "    42                                               gun[7][11] = gun[7][17] = 255\r\n",
      "    43                                               gun[8][12] = gun[8][16] = 255\r\n",
      "    44                                               gun[9][13] = gun[9][14] = 255\r\n",
      "    45                                           \r\n",
      "    46                                               gun[1][25] = 255\r\n",
      "    47                                               gun[2][23] = gun[2][25] = 255\r\n",
      "    48                                               gun[3][21] = gun[3][22] = 255\r\n",
      "    49                                               gun[4][21] = gun[4][22] = 255\r\n",
      "    50                                               gun[5][21] = gun[5][22] = 255\r\n",
      "    51                                               gun[6][23] = gun[6][25] = 255\r\n",
      "    52                                               gun[7][25] = 255\r\n",
      "    53                                           \r\n",
      "    54                                               gun[3][35] = gun[3][36] = 255\r\n",
      "    55                                               gun[4][35] = gun[4][36] = 255\r\n",
      "    56                                           \r\n",
      "    57                                               grid[i : i + 11, j : j + 38] = gun\r\n",
      "\r\n",
      "Total time: 0.017432 s\r\n",
      "File: conway_perf.py\r\n",
      "Function: randomGrid at line 19\r\n",
      "\r\n",
      "Line #      Hits         Time  Per Hit   % Time  Line Contents\r\n",
      "==============================================================\r\n",
      "    19                                           @profile\r\n",
      "    20                                           def randomGrid(N):\r\n",
      "    21                                               \"\"\"returns a grid of NxN random values\"\"\"\r\n",
      "    22         1      17432.0  17432.0    100.0      return np.random.choice(vals, N * N, p=[0.2, 0.8]).reshape(N, N)\r\n",
      "\r\n",
      "Total time: 2.08294 s\r\n",
      "File: conway_perf.py\r\n",
      "Function: update at line 59\r\n",
      "\r\n",
      "Line #      Hits         Time  Per Hit   % Time  Line Contents\r\n",
      "==============================================================\r\n",
      "    59                                           @profile\r\n",
      "    60                                           def update(grid, N):\r\n",
      "    61                                               # copy grid since we require 8 neighbors for calculation\r\n",
      "    62                                               # and we go line by line\r\n",
      "    63       100        275.0      2.8      0.0      newGrid = grid.copy()\r\n",
      "    64     10100        630.0      0.1      0.0      for i in range(N):\r\n",
      "    65   1010000      72738.0      0.1      3.5          for j in range(N):\r\n",
      "    66                                                       # compute 8-neghbor sum\r\n",
      "    67                                                       # using toroidal boundary conditions - x and y wrap around\r\n",
      "    68                                                       # so that the simulaton takes place on a toroidal surface.\r\n",
      "    69   2000000     129111.0      0.1      6.2              total = int(\r\n",
      "    70   1000000      71123.0      0.1      3.4                  (\r\n",
      "    71   8000000     832133.0      0.1     39.9                      grid[i, (j - 1) % N]\r\n",
      "    72   1000000      92717.0      0.1      4.5                      + grid[i, (j + 1) % N]\r\n",
      "    73   1000000     100008.0      0.1      4.8                      + grid[(i - 1) % N, j]\r\n",
      "    74   1000000      98506.0      0.1      4.7                      + grid[(i + 1) % N, j]\r\n",
      "    75   1000000     106230.0      0.1      5.1                      + grid[(i - 1) % N, (j - 1) % N]\r\n",
      "    76   1000000     100785.0      0.1      4.8                      + grid[(i - 1) % N, (j + 1) % N]\r\n",
      "    77   1000000     106392.0      0.1      5.1                      + grid[(i + 1) % N, (j - 1) % N]\r\n",
      "    78   1000000     105636.0      0.1      5.1                      + grid[(i + 1) % N, (j + 1) % N]\r\n",
      "    79                                                           )\r\n",
      "    80   1000000      46492.0      0.0      2.2                  / 255\r\n",
      "    81                                                       )\r\n",
      "    82                                                       # apply Conway's rules\r\n",
      "    83   1000000     134570.0      0.1      6.5              if grid[i, j] == ON:\r\n",
      "    84    110487      11283.0      0.1      0.5                  if (total < 2) or (total > 3):\r\n",
      "    85     45353       4825.0      0.1      0.2                      newGrid[i, j] = OFF\r\n",
      "    86                                                       else:\r\n",
      "    87    889513      64404.0      0.1      3.1                  if total == 3:\r\n",
      "    88     44242       4617.0      0.1      0.2                      newGrid[i, j] = ON\r\n",
      "    89                                               # update data\r\n",
      "    90       100        464.0      4.6      0.0      grid[:] = newGrid[:]\r\n",
      "\r\n",
      "Total time: 4.73486 s\r\n",
      "File: conway_perf.py\r\n",
      "Function: main at line 92\r\n",
      "\r\n",
      "Line #      Hits         Time  Per Hit   % Time  Line Contents\r\n",
      "==============================================================\r\n",
      "    92                                           @profile\r\n",
      "    93                                           # main() function\r\n",
      "    94                                           def main():\r\n",
      "    95                                               # Command line args are in sys.argv[1], sys.argv[2] ..\r\n",
      "    96                                               # sys.argv[0] is the script name itself and can be ignored\r\n",
      "    97                                               # parse arguments\r\n",
      "    98         2        314.0    157.0      0.0      parser = argparse.ArgumentParser(\r\n",
      "    99         1          1.0      1.0      0.0          description=\"Runs Conway's Game of Life simulation.\"\r\n",
      "   100                                               )\r\n",
      "   101                                               # add arguments\r\n",
      "   102         1         23.0     23.0      0.0      parser.add_argument(\"--grid-size\", dest=\"N\", required=False)\r\n",
      "   103         1         14.0     14.0      0.0      parser.add_argument(\"--iterations\", dest=\"iterations\", required=False)\r\n",
      "   104         1         18.0     18.0      0.0      parser.add_argument(\"--glider\", action=\"store_true\", required=False)\r\n",
      "   105         1         13.0     13.0      0.0      parser.add_argument(\"--gosper\", action=\"store_true\", required=False)\r\n",
      "   106         1         77.0     77.0      0.0      args = parser.parse_args()\r\n",
      "   107                                           \r\n",
      "   108                                               # set grid size\r\n",
      "   109         1          0.0      0.0      0.0      N = 100\r\n",
      "   110         1          0.0      0.0      0.0      if args.N and int(args.N) > 8:\r\n",
      "   111                                                   N = int(args.N)\r\n",
      "   112                                           \r\n",
      "   113                                               # set update iteration\r\n",
      "   114         1          0.0      0.0      0.0      iterations = 100\r\n",
      "   115         1          0.0      0.0      0.0      if args.iterations:\r\n",
      "   116                                                   iterations = int(args.iterations)\r\n",
      "   117                                           \r\n",
      "   118                                               # declare grid\r\n",
      "   119         1          4.0      4.0      0.0      grid = np.array([])\r\n",
      "   120                                               # check if \"glider\" demo flag is specified\r\n",
      "   121         1          0.0      0.0      0.0      if args.glider:\r\n",
      "   122                                                   grid = np.zeros(N * N).reshape(N, N)\r\n",
      "   123                                                   addGlider(1, 1, grid)\r\n",
      "   124         1          0.0      0.0      0.0      elif args.gosper:\r\n",
      "   125                                                   grid = np.zeros(N * N).reshape(N, N)\r\n",
      "   126                                                   addGosperGliderGun(10, 10, grid)\r\n",
      "   127                                               else:\r\n",
      "   128                                                   # populate grid with random on/off - more off than on\r\n",
      "   129         1      17445.0  17445.0      0.4          grid = randomGrid(N)\r\n",
      "   130                                           \r\n",
      "   131       101         14.0      0.1      0.0      for _ in range(iterations):\r\n",
      "   132       100    4716932.0  47169.3     99.6          update(grid, N)\r\n",
      "   133                                               # # set up animation\r\n",
      "   134                                               # fig, ax = plt.subplots()\r\n",
      "   135                                               # img = ax.imshow(grid, interpolation='nearest')\r\n",
      "   136                                               # ani = animation.FuncAnimation(fig, update, fargs=(img, grid, N, ),\r\n",
      "   137                                               #                               frames = 10,\r\n",
      "   138                                               #                               interval=updateInterval,\r\n",
      "   139                                               #                               save_count=50)\r\n",
      "   140                                           \r\n",
      "   141                                               # # # of frames?\r\n",
      "   142                                               # # set output file\r\n",
      "   143                                               # if args.movfile:\r\n",
      "   144                                               #     ani.save(args.movfile, fps=30, extra_args=['-vcodec', 'libx264'])\r\n",
      "   145                                           \r\n",
      "   146                                               # plt.show()\r\n",
      "\r\n",
      "  0.00 seconds - conway_perf.py:24 - addGlider\r\n",
      "  0.00 seconds - conway_perf.py:30 - addGosperGliderGun\r\n",
      "  0.02 seconds - conway_perf.py:19 - randomGrid\r\n",
      "  2.08 seconds - conway_perf.py:59 - update\r\n",
      "  4.73 seconds - conway_perf.py:92 - main\r\n"
     ]
    }
   ],
   "source": [
    "!python3 -m line_profiler -rmt \"conway_perf.py.lprof\""
   ]
  },
  {
   "cell_type": "code",
   "execution_count": 18,
   "metadata": {
    "ExecuteTime": {
     "end_time": "2025-02-02T17:37:14.569800Z",
     "start_time": "2025-02-02T17:31:39.704664Z"
    }
   },
   "outputs": [
    {
     "name": "stdout",
     "output_type": "stream",
     "text": [
      "Time:  334.35222291600076\r\n",
      "Filename: conway_perf.py\r\n",
      "\r\n",
      "Line #    Mem usage    Increment  Occurrences   Line Contents\r\n",
      "=============================================================\r\n",
      "    19   85.672 MiB   85.672 MiB           1   @profile\r\n",
      "    20                                         def randomGrid(N):\r\n",
      "    21                                             \"\"\"returns a grid of NxN random values\"\"\"\r\n",
      "    22   88.266 MiB    2.594 MiB           1       return np.random.choice(vals, N * N, p=[0.2, 0.8]).reshape(N, N)\r\n",
      "\r\n",
      "\r\n",
      "Filename: conway_perf.py\r\n",
      "\r\n",
      "Line #    Mem usage    Increment  Occurrences   Line Contents\r\n",
      "=============================================================\r\n",
      "    59   88.469 MiB 8839.172 MiB         100   @profile\r\n",
      "    60                                         def update(grid, N):\r\n",
      "    61                                             # copy grid since we require 8 neighbors for calculation\r\n",
      "    62                                             # and we go line by line\r\n",
      "    63   88.469 MiB    0.109 MiB         100       newGrid = grid.copy()\r\n",
      "    64   88.469 MiB    0.000 MiB       10100       for i in range(N):\r\n",
      "    65   88.469 MiB    0.016 MiB     1010000           for j in range(N):\r\n",
      "    66                                                     # compute 8-neghbor sum\r\n",
      "    67                                                     # using toroidal boundary conditions - x and y wrap around\r\n",
      "    68                                                     # so that the simulaton takes place on a toroidal surface.\r\n",
      "    69   88.469 MiB    0.000 MiB     2000000               total = int(\r\n",
      "    70   88.469 MiB    0.000 MiB     1000000                   (\r\n",
      "    71   88.469 MiB    0.047 MiB     8000000                       grid[i, (j - 1) % N]\r\n",
      "    72   88.469 MiB    0.000 MiB     1000000                       + grid[i, (j + 1) % N]\r\n",
      "    73   88.469 MiB    0.000 MiB     1000000                       + grid[(i - 1) % N, j]\r\n",
      "    74   88.469 MiB    0.000 MiB     1000000                       + grid[(i + 1) % N, j]\r\n",
      "    75   88.469 MiB    0.016 MiB     1000000                       + grid[(i - 1) % N, (j - 1) % N]\r\n",
      "    76   88.469 MiB    0.000 MiB     1000000                       + grid[(i - 1) % N, (j + 1) % N]\r\n",
      "    77   88.469 MiB    0.016 MiB     1000000                       + grid[(i + 1) % N, (j - 1) % N]\r\n",
      "    78   88.469 MiB    0.000 MiB     1000000                       + grid[(i + 1) % N, (j + 1) % N]\r\n",
      "    79                                                         )\r\n",
      "    80   88.469 MiB    0.000 MiB     1000000                   / 255\r\n",
      "    81                                                     )\r\n",
      "    82                                                     # apply Conway's rules\r\n",
      "    83   88.469 MiB    0.000 MiB     1000000               if grid[i, j] == ON:\r\n",
      "    84   88.469 MiB    0.000 MiB      118022                   if (total < 2) or (total > 3):\r\n",
      "    85   88.469 MiB    0.000 MiB       46703                       newGrid[i, j] = OFF\r\n",
      "    86                                                     else:\r\n",
      "    87   88.469 MiB    0.000 MiB      881978                   if total == 3:\r\n",
      "    88   88.469 MiB    0.000 MiB       45529                       newGrid[i, j] = ON\r\n",
      "    89                                             # update data\r\n",
      "    90   88.469 MiB    0.000 MiB         100       grid[:] = newGrid[:]\r\n",
      "\r\n",
      "\r\n",
      "Filename: conway_perf.py\r\n",
      "\r\n",
      "Line #    Mem usage    Increment  Occurrences   Line Contents\r\n",
      "=============================================================\r\n",
      "    92   85.641 MiB   85.641 MiB           1   @profile\r\n",
      "    93                                         # main() function\r\n",
      "    94                                         def main():\r\n",
      "    95                                             # Command line args are in sys.argv[1], sys.argv[2] ..\r\n",
      "    96                                             # sys.argv[0] is the script name itself and can be ignored\r\n",
      "    97                                             # parse arguments\r\n",
      "    98   85.672 MiB    0.031 MiB           2       parser = argparse.ArgumentParser(\r\n",
      "    99   85.641 MiB    0.000 MiB           1           description=\"Runs Conway's Game of Life simulation.\"\r\n",
      "   100                                             )\r\n",
      "   101                                             # add arguments\r\n",
      "   102   85.672 MiB    0.000 MiB           1       parser.add_argument(\"--grid-size\", dest=\"N\", required=False)\r\n",
      "   103   85.672 MiB    0.000 MiB           1       parser.add_argument(\"--iterations\", dest=\"iterations\", required=False)\r\n",
      "   104   85.672 MiB    0.000 MiB           1       parser.add_argument(\"--glider\", action=\"store_true\", required=False)\r\n",
      "   105   85.672 MiB    0.000 MiB           1       parser.add_argument(\"--gosper\", action=\"store_true\", required=False)\r\n",
      "   106   85.672 MiB    0.000 MiB           1       args = parser.parse_args()\r\n",
      "   107                                         \r\n",
      "   108                                             # set grid size\r\n",
      "   109   85.672 MiB    0.000 MiB           1       N = 100\r\n",
      "   110   85.672 MiB    0.000 MiB           1       if args.N and int(args.N) > 8:\r\n",
      "   111                                                 N = int(args.N)\r\n",
      "   112                                         \r\n",
      "   113                                             # set update iteration\r\n",
      "   114   85.672 MiB    0.000 MiB           1       iterations = 100\r\n",
      "   115   85.672 MiB    0.000 MiB           1       if args.iterations:\r\n",
      "   116                                                 iterations = int(args.iterations)\r\n",
      "   117                                         \r\n",
      "   118                                             # declare grid\r\n",
      "   119   85.672 MiB    0.000 MiB           1       grid = np.array([])\r\n",
      "   120                                             # check if \"glider\" demo flag is specified\r\n",
      "   121   85.672 MiB    0.000 MiB           1       if args.glider:\r\n",
      "   122                                                 grid = np.zeros(N * N).reshape(N, N)\r\n",
      "   123                                                 addGlider(1, 1, grid)\r\n",
      "   124   85.672 MiB    0.000 MiB           1       elif args.gosper:\r\n",
      "   125                                                 grid = np.zeros(N * N).reshape(N, N)\r\n",
      "   126                                                 addGosperGliderGun(10, 10, grid)\r\n",
      "   127                                             else:\r\n",
      "   128                                                 # populate grid with random on/off - more off than on\r\n",
      "   129   88.266 MiB   88.266 MiB           1           grid = randomGrid(N)\r\n",
      "   130                                         \r\n",
      "   131   88.469 MiB    0.000 MiB         101       for _ in range(iterations):\r\n",
      "   132   88.469 MiB 8839.375 MiB         100           update(grid, N)\r\n",
      "   133                                             # # set up animation\r\n",
      "   134                                             # fig, ax = plt.subplots()\r\n",
      "   135                                             # img = ax.imshow(grid, interpolation='nearest')\r\n",
      "   136                                             # ani = animation.FuncAnimation(fig, update, fargs=(img, grid, N, ),\r\n",
      "   137                                             #                               frames = 10,\r\n",
      "   138                                             #                               interval=updateInterval,\r\n",
      "   139                                             #                               save_count=50)\r\n",
      "   140                                         \r\n",
      "   141                                             # # # of frames?\r\n",
      "   142                                             # # set output file\r\n",
      "   143                                             # if args.movfile:\r\n",
      "   144                                             #     ani.save(args.movfile, fps=30, extra_args=['-vcodec', 'libx264'])\r\n",
      "   145                                         \r\n",
      "   146                                             # plt.show()\r\n",
      "\r\n",
      "\r\n"
     ]
    }
   ],
   "source": [
    "!python3 -m memory_profiler conway_perf.py"
   ]
  },
  {
   "cell_type": "markdown",
   "metadata": {},
   "source": [
    "## Task B.4\n",
    "### After optimization"
   ]
  },
  {
   "cell_type": "markdown",
   "metadata": {},
   "source": [
    "#### Total Execution Time"
   ]
  },
  {
   "cell_type": "code",
   "execution_count": 27,
   "metadata": {
    "ExecuteTime": {
     "end_time": "2025-02-02T17:37:19.108425Z",
     "start_time": "2025-02-02T17:37:18.766672Z"
    }
   },
   "outputs": [
    {
     "name": "stdout",
     "output_type": "stream",
     "text": [
      "Time:  0.012091041004168801\r\n",
      "python3 conway_perf_optimize.py  0.20s user 0.02s system 98% cpu 0.226 total\r\n"
     ]
    }
   ],
   "source": [
    "!time python3 conway_perf_optimize.py"
   ]
  },
  {
   "cell_type": "code",
   "execution_count": 31,
   "metadata": {
    "ExecuteTime": {
     "end_time": "2025-02-02T17:41:48.642594Z",
     "start_time": "2025-02-02T17:41:48.210813Z"
    }
   },
   "outputs": [
    {
     "name": "stdout",
     "output_type": "stream",
     "text": [
      "Time:  0.02442570800485555\r\n",
      "Wrote profile results to conway_perf_optimize.py.lprof\r\n",
      "Inspect results with:\r\n",
      "python3 -m line_profiler -rmt \"conway_perf_optimize.py.lprof\"\r\n"
     ]
    }
   ],
   "source": [
    "!python3 -m kernprof -l conway_perf_optimize.py"
   ]
  },
  {
   "cell_type": "code",
   "execution_count": 32,
   "metadata": {
    "ExecuteTime": {
     "end_time": "2025-02-02T17:41:50.126047Z",
     "start_time": "2025-02-02T17:41:49.964397Z"
    }
   },
   "outputs": [
    {
     "name": "stdout",
     "output_type": "stream",
     "text": [
      "Timer unit: 1e-06 s\r\n",
      "\r\n",
      "Total time: 0 s\r\n",
      "File: conway_perf_optimize.py\r\n",
      "Function: addGlider at line 24\r\n",
      "\r\n",
      "Line #      Hits         Time  Per Hit   % Time  Line Contents\r\n",
      "==============================================================\r\n",
      "    24                                           @profile\r\n",
      "    25                                           def addGlider(i, j, grid):\r\n",
      "    26                                               \"\"\"adds a glider with top left cell at (i, j)\"\"\"\r\n",
      "    27                                               glider = np.array([[0, 0, 255], [255, 0, 255], [0, 255, 255]])\r\n",
      "    28                                               grid[i : i + 3, j : j + 3] = glider\r\n",
      "\r\n",
      "Total time: 0 s\r\n",
      "File: conway_perf_optimize.py\r\n",
      "Function: addGosperGliderGun at line 30\r\n",
      "\r\n",
      "Line #      Hits         Time  Per Hit   % Time  Line Contents\r\n",
      "==============================================================\r\n",
      "    30                                           @profile\r\n",
      "    31                                           def addGosperGliderGun(i, j, grid):\r\n",
      "    32                                               \"\"\"adds a Gosper Glider Gun with top left cell at (i, j)\"\"\"\r\n",
      "    33                                               gun = np.zeros(11 * 38).reshape(11, 38)\r\n",
      "    34                                           \r\n",
      "    35                                               gun[5][1] = gun[5][2] = 255\r\n",
      "    36                                               gun[6][1] = gun[6][2] = 255\r\n",
      "    37                                           \r\n",
      "    38                                               gun[3][13] = gun[3][14] = 255\r\n",
      "    39                                               gun[4][12] = gun[4][16] = 255\r\n",
      "    40                                               gun[5][11] = gun[5][17] = 255\r\n",
      "    41                                               gun[6][11] = gun[6][15] = gun[6][17] = gun[6][18] = 255\r\n",
      "    42                                               gun[7][11] = gun[7][17] = 255\r\n",
      "    43                                               gun[8][12] = gun[8][16] = 255\r\n",
      "    44                                               gun[9][13] = gun[9][14] = 255\r\n",
      "    45                                           \r\n",
      "    46                                               gun[1][25] = 255\r\n",
      "    47                                               gun[2][23] = gun[2][25] = 255\r\n",
      "    48                                               gun[3][21] = gun[3][22] = 255\r\n",
      "    49                                               gun[4][21] = gun[4][22] = 255\r\n",
      "    50                                               gun[5][21] = gun[5][22] = 255\r\n",
      "    51                                               gun[6][23] = gun[6][25] = 255\r\n",
      "    52                                               gun[7][25] = 255\r\n",
      "    53                                           \r\n",
      "    54                                               gun[3][35] = gun[3][36] = 255\r\n",
      "    55                                               gun[4][35] = gun[4][36] = 255\r\n",
      "    56                                           \r\n",
      "    57                                               grid[i : i + 11, j : j + 38] = gun\r\n",
      "\r\n",
      "Total time: 0.009762 s\r\n",
      "File: conway_perf_optimize.py\r\n",
      "Function: update at line 59\r\n",
      "\r\n",
      "Line #      Hits         Time  Per Hit   % Time  Line Contents\r\n",
      "==============================================================\r\n",
      "    59                                           @profile\r\n",
      "    60                                           def update(grid, N):\r\n",
      "    61                                               # copy grid since we require 8 neighbors for calculation\r\n",
      "    62                                               # and we go line by line\r\n",
      "    63       100          9.0      0.1      0.1      neighbors = (\r\n",
      "    64       800       2294.0      2.9     23.5          np.roll(grid, shift=1, axis=0) +  \r\n",
      "    65       100        561.0      5.6      5.7          np.roll(grid, shift=-1, axis=0) +  \r\n",
      "    66       100        659.0      6.6      6.8          np.roll(grid, shift=1, axis=1) + \r\n",
      "    67       100        646.0      6.5      6.6          np.roll(grid, shift=-1, axis=1) +  \r\n",
      "    68       100        800.0      8.0      8.2          np.roll(grid, shift=(1, 1), axis=(0, 1)) + \r\n",
      "    69       100        790.0      7.9      8.1          np.roll(grid, shift=(1, -1), axis=(0, 1)) + \r\n",
      "    70       100        773.0      7.7      7.9          np.roll(grid, shift=(-1, 1), axis=(0, 1)) + \r\n",
      "    71       100        774.0      7.7      7.9          np.roll(grid, shift=(-1, -1), axis=(0, 1)) \r\n",
      "    72                                               )\r\n",
      "    73                                           \r\n",
      "    74       100        503.0      5.0      5.2      neighbors = neighbors / 255\r\n",
      "    75                                           \r\n",
      "    76                                               # Apply Conway's rules efficiently using NumPy boolean indexing\r\n",
      "    77       200        348.0      1.7      3.6      newGrid = np.where(\r\n",
      "    78       100        661.0      6.6      6.8          (grid == ON) & ((neighbors < 2) | (neighbors > 3)), OFF,  # Death by under/overpopulation\r\n",
      "    79       100        764.0      7.6      7.8          np.where((grid == OFF) & (neighbors == 3), ON, grid)  # Birth of a new cell\r\n",
      "    80                                               )\r\n",
      "    81                                               # update data\r\n",
      "    82       100        180.0      1.8      1.8      grid[:] = newGrid[:]\r\n",
      "\r\n",
      "Total time: 0.013661 s\r\n",
      "File: conway_perf_optimize.py\r\n",
      "Function: randomGrid at line 19\r\n",
      "\r\n",
      "Line #      Hits         Time  Per Hit   % Time  Line Contents\r\n",
      "==============================================================\r\n",
      "    19                                           @profile\r\n",
      "    20                                           def randomGrid(N):\r\n",
      "    21                                               \"\"\"returns a grid of NxN random values\"\"\"\r\n",
      "    22         1      13661.0  13661.0    100.0      return np.random.choice(vals, (N, N), p=[0.2, 0.8])\r\n",
      "\r\n",
      "Total time: 0.024339 s\r\n",
      "File: conway_perf_optimize.py\r\n",
      "Function: main at line 84\r\n",
      "\r\n",
      "Line #      Hits         Time  Per Hit   % Time  Line Contents\r\n",
      "==============================================================\r\n",
      "    84                                           @profile\r\n",
      "    85                                           # main() function\r\n",
      "    86                                           def main():\r\n",
      "    87                                               # Command line args are in sys.argv[1], sys.argv[2] ..\r\n",
      "    88                                               # sys.argv[0] is the script name itself and can be ignored\r\n",
      "    89                                               # parse arguments\r\n",
      "    90         2        276.0    138.0      1.1      parser = argparse.ArgumentParser(\r\n",
      "    91         1          1.0      1.0      0.0          description=\"Runs Conway's Game of Life simulation.\"\r\n",
      "    92                                               )\r\n",
      "    93                                               # add arguments\r\n",
      "    94         1         21.0     21.0      0.1      parser.add_argument(\"--grid-size\", dest=\"N\", required=False)\r\n",
      "    95         1         14.0     14.0      0.1      parser.add_argument(\"--iterations\", dest=\"iterations\", required=False)\r\n",
      "    96         1         18.0     18.0      0.1      parser.add_argument(\"--glider\", action=\"store_true\", required=False)\r\n",
      "    97         1         14.0     14.0      0.1      parser.add_argument(\"--gosper\", action=\"store_true\", required=False)\r\n",
      "    98         1         78.0     78.0      0.3      args = parser.parse_args()\r\n",
      "    99                                           \r\n",
      "   100                                               # set grid size\r\n",
      "   101         1          0.0      0.0      0.0      N = 100\r\n",
      "   102         1          0.0      0.0      0.0      if args.N and int(args.N) > 8:\r\n",
      "   103                                                   N = int(args.N)\r\n",
      "   104                                           \r\n",
      "   105                                               # set update iteration\r\n",
      "   106         1          0.0      0.0      0.0      iterations = 100\r\n",
      "   107         1          0.0      0.0      0.0      if args.iterations:\r\n",
      "   108                                                   iterations = int(args.iterations)\r\n",
      "   109                                           \r\n",
      "   110                                               # declare grid\r\n",
      "   111         1          4.0      4.0      0.0      grid = np.array([])\r\n",
      "   112                                               # check if \"glider\" demo flag is specified\r\n",
      "   113         1          1.0      1.0      0.0      if args.glider:\r\n",
      "   114                                                   grid = np.zeros(N * N).reshape(N, N)\r\n",
      "   115                                                   addGlider(1, 1, grid)\r\n",
      "   116         1          0.0      0.0      0.0      elif args.gosper:\r\n",
      "   117                                                   grid = np.zeros(N * N).reshape(N, N)\r\n",
      "   118                                                   addGosperGliderGun(10, 10, grid)\r\n",
      "   119                                               else:\r\n",
      "   120                                                   # populate grid with random on/off - more off than on\r\n",
      "   121         1      13667.0  13667.0     56.2          grid = randomGrid(N)\r\n",
      "   122                                           \r\n",
      "   123       101         14.0      0.1      0.1      for _ in range(iterations):\r\n",
      "   124       100      10231.0    102.3     42.0          update(grid, N)\r\n",
      "   125                                               # # set up animation\r\n",
      "   126                                               # fig, ax = plt.subplots()\r\n",
      "   127                                               # img = ax.imshow(grid, interpolation='nearest')\r\n",
      "   128                                               # ani = animation.FuncAnimation(fig, update, fargs=(img, grid, N, ),\r\n",
      "   129                                               #                               frames = 10,\r\n",
      "   130                                               #                               interval=updateInterval,\r\n",
      "   131                                               #                               save_count=50)\r\n",
      "   132                                           \r\n",
      "   133                                               # # # of frames?\r\n",
      "   134                                               # # set output file\r\n",
      "   135                                               # if args.movfile:\r\n",
      "   136                                               #     ani.save(args.movfile, fps=30, extra_args=['-vcodec', 'libx264'])\r\n",
      "   137                                           \r\n",
      "   138                                               # plt.show()\r\n",
      "\r\n",
      "  0.00 seconds - conway_perf_optimize.py:24 - addGlider\r\n",
      "  0.00 seconds - conway_perf_optimize.py:30 - addGosperGliderGun\r\n",
      "  0.01 seconds - conway_perf_optimize.py:59 - update\r\n",
      "  0.01 seconds - conway_perf_optimize.py:19 - randomGrid\r\n",
      "  0.02 seconds - conway_perf_optimize.py:84 - main\r\n"
     ]
    }
   ],
   "source": [
    "!python3 -m line_profiler -rmt \"conway_perf_optimize.py.lprof\""
   ]
  },
  {
   "cell_type": "code",
   "execution_count": 9,
   "metadata": {
    "ExecuteTime": {
     "end_time": "2025-02-02T17:26:59.868026Z",
     "start_time": "2025-02-02T17:26:59.160459Z"
    }
   },
   "outputs": [
    {
     "name": "stdout",
     "output_type": "stream",
     "text": [
      "Time:  0.10641004100034479\r\n",
      "Filename: conway_perf_optimize.py\r\n",
      "\r\n",
      "Line #    Mem usage    Increment  Occurrences   Line Contents\r\n",
      "=============================================================\r\n",
      "    19   86.438 MiB   86.438 MiB           1   @profile\r\n",
      "    20                                         def randomGrid(N):\r\n",
      "    21                                             \"\"\"returns a grid of NxN random values\"\"\"\r\n",
      "    22   88.984 MiB    2.547 MiB           1       return np.random.choice(vals, (N, N), p=[0.2, 0.8])\r\n",
      "\r\n",
      "\r\n",
      "Filename: conway_perf_optimize.py\r\n",
      "\r\n",
      "Line #    Mem usage    Increment  Occurrences   Line Contents\r\n",
      "=============================================================\r\n",
      "    59   89.156 MiB 8912.547 MiB         100   @profile\r\n",
      "    60                                         def update(grid, N):\r\n",
      "    61                                             # copy grid since we require 8 neighbors for calculation\r\n",
      "    62                                             # and we go line by line\r\n",
      "    63   89.156 MiB    0.000 MiB         100       neighbors = (\r\n",
      "    64   89.156 MiB    0.016 MiB         800           np.roll(grid, shift=1, axis=0) +  \r\n",
      "    65   89.156 MiB    0.000 MiB         100           np.roll(grid, shift=-1, axis=0) +  \r\n",
      "    66   89.156 MiB    0.000 MiB         100           np.roll(grid, shift=1, axis=1) + \r\n",
      "    67   89.156 MiB    0.000 MiB         100           np.roll(grid, shift=-1, axis=1) +  \r\n",
      "    68   89.156 MiB    0.000 MiB         100           np.roll(grid, shift=(1, 1), axis=(0, 1)) + \r\n",
      "    69   89.156 MiB    0.000 MiB         100           np.roll(grid, shift=(1, -1), axis=(0, 1)) + \r\n",
      "    70   89.156 MiB    0.000 MiB         100           np.roll(grid, shift=(-1, 1), axis=(0, 1)) + \r\n",
      "    71   89.156 MiB    0.000 MiB         100           np.roll(grid, shift=(-1, -1), axis=(0, 1)) \r\n",
      "    72                                             )\r\n",
      "    73                                         \r\n",
      "    74   89.156 MiB    0.000 MiB         100       neighbors = neighbors / 255\r\n",
      "    75                                         \r\n",
      "    76                                             # Apply Conway's rules efficiently using NumPy boolean indexing\r\n",
      "    77   89.156 MiB    0.000 MiB         200       newGrid = np.where(\r\n",
      "    78   89.156 MiB    0.156 MiB         100           (grid == ON) & ((neighbors < 2) | (neighbors > 3)), OFF,  # Death by under/overpopulation\r\n",
      "    79   89.156 MiB    0.000 MiB         100           np.where((grid == OFF) & (neighbors == 3), ON, grid)  # Birth of a new cell\r\n",
      "    80                                             )\r\n",
      "    81                                             # update data\r\n",
      "    82   89.156 MiB    0.000 MiB         100       grid[:] = newGrid[:]\r\n",
      "\r\n",
      "\r\n",
      "Filename: conway_perf_optimize.py\r\n",
      "\r\n",
      "Line #    Mem usage    Increment  Occurrences   Line Contents\r\n",
      "=============================================================\r\n",
      "    84   86.406 MiB   86.406 MiB           1   @profile\r\n",
      "    85                                         # main() function\r\n",
      "    86                                         def main():\r\n",
      "    87                                             # Command line args are in sys.argv[1], sys.argv[2] ..\r\n",
      "    88                                             # sys.argv[0] is the script name itself and can be ignored\r\n",
      "    89                                             # parse arguments\r\n",
      "    90   86.438 MiB    0.031 MiB           2       parser = argparse.ArgumentParser(\r\n",
      "    91   86.406 MiB    0.000 MiB           1           description=\"Runs Conway's Game of Life simulation.\"\r\n",
      "    92                                             )\r\n",
      "    93                                             # add arguments\r\n",
      "    94   86.438 MiB    0.000 MiB           1       parser.add_argument(\"--grid-size\", dest=\"N\", required=False)\r\n",
      "    95   86.438 MiB    0.000 MiB           1       parser.add_argument(\"--iterations\", dest=\"iterations\", required=False)\r\n",
      "    96   86.438 MiB    0.000 MiB           1       parser.add_argument(\"--glider\", action=\"store_true\", required=False)\r\n",
      "    97   86.438 MiB    0.000 MiB           1       parser.add_argument(\"--gosper\", action=\"store_true\", required=False)\r\n",
      "    98   86.438 MiB    0.000 MiB           1       args = parser.parse_args()\r\n",
      "    99                                         \r\n",
      "   100                                             # set grid size\r\n",
      "   101   86.438 MiB    0.000 MiB           1       N = 100\r\n",
      "   102   86.438 MiB    0.000 MiB           1       if args.N and int(args.N) > 8:\r\n",
      "   103                                                 N = int(args.N)\r\n",
      "   104                                         \r\n",
      "   105                                             # set update iteration\r\n",
      "   106   86.438 MiB    0.000 MiB           1       iterations = 100\r\n",
      "   107   86.438 MiB    0.000 MiB           1       if args.iterations:\r\n",
      "   108                                                 iterations = int(args.iterations)\r\n",
      "   109                                         \r\n",
      "   110                                             # declare grid\r\n",
      "   111   86.438 MiB    0.000 MiB           1       grid = np.array([])\r\n",
      "   112                                             # check if \"glider\" demo flag is specified\r\n",
      "   113   86.438 MiB    0.000 MiB           1       if args.glider:\r\n",
      "   114                                                 grid = np.zeros(N * N).reshape(N, N)\r\n",
      "   115                                                 addGlider(1, 1, grid)\r\n",
      "   116   86.438 MiB    0.000 MiB           1       elif args.gosper:\r\n",
      "   117                                                 grid = np.zeros(N * N).reshape(N, N)\r\n",
      "   118                                                 addGosperGliderGun(10, 10, grid)\r\n",
      "   119                                             else:\r\n",
      "   120                                                 # populate grid with random on/off - more off than on\r\n",
      "   121   88.984 MiB   88.984 MiB           1           grid = randomGrid(N)\r\n",
      "   122                                         \r\n",
      "   123   89.156 MiB    0.000 MiB         101       for _ in range(iterations):\r\n",
      "   124   89.156 MiB 8912.719 MiB         100           update(grid, N)\r\n",
      "   125                                             # # set up animation\r\n",
      "   126                                             # fig, ax = plt.subplots()\r\n",
      "   127                                             # img = ax.imshow(grid, interpolation='nearest')\r\n",
      "   128                                             # ani = animation.FuncAnimation(fig, update, fargs=(img, grid, N, ),\r\n",
      "   129                                             #                               frames = 10,\r\n",
      "   130                                             #                               interval=updateInterval,\r\n",
      "   131                                             #                               save_count=50)\r\n",
      "   132                                         \r\n",
      "   133                                             # # # of frames?\r\n",
      "   134                                             # # set output file\r\n",
      "   135                                             # if args.movfile:\r\n",
      "   136                                             #     ani.save(args.movfile, fps=30, extra_args=['-vcodec', 'libx264'])\r\n",
      "   137                                         \r\n",
      "   138                                             # plt.show()\r\n",
      "\r\n",
      "\r\n"
     ]
    }
   ],
   "source": [
    "!python3 -m memory_profiler conway_perf_optimize.py"
   ]
  },
  {
   "cell_type": "code",
   "execution_count": 1,
   "metadata": {},
   "outputs": [
    {
     "name": "stdout",
     "output_type": "stream",
     "text": [
      "Grid size: 10x10, Execution time: 0.008255 seconds\n",
      "Grid size: 20x20, Execution time: 0.007404 seconds\n",
      "Grid size: 30x30, Execution time: 0.009243 seconds\n",
      "Grid size: 40x40, Execution time: 0.008213 seconds\n",
      "Grid size: 50x50, Execution time: 0.009588 seconds\n",
      "Grid size: 60x60, Execution time: 0.011242 seconds\n",
      "Grid size: 70x70, Execution time: 0.011137 seconds\n",
      "Grid size: 80x80, Execution time: 0.011385 seconds\n",
      "Grid size: 90x90, Execution time: 0.012521 seconds\n",
      "Grid size: 100x100, Execution time: 0.015606 seconds\n"
     ]
    },
    {
     "data": {
      "image/png": "[encoded data removed]",
      "text/plain": [
       "<Figure size 800x600 with 1 Axes>"
      ]
     },
     "metadata": {},
     "output_type": "display_data"
    }
   ],
   "source": [
    "import subprocess\n",
    "import matplotlib.pyplot as plt\n",
    "\n",
    "def run_program(grid_size):\n",
    "    command = [\"python\", \"conway_perf_optimize.py\", \"--grid-size\", str(grid_size), \"--iterations\", \"100\"]\n",
    "    \n",
    "    result = subprocess.run(command, capture_output=True, text=True)\n",
    "    return result.stdout, result.stderr\n",
    "\n",
    "\n",
    "iteration = 5\n",
    "grid_sizes = range(10, 101, 10)\n",
    "execution_times = []\n",
    "for size in grid_sizes:\n",
    "    stdout, stderr = run_program(size)\n",
    "    if stderr:\n",
    "        print(\"Error:\", stderr)\n",
    "    else:\n",
    "        time_taken = float(stdout.strip().split()[-1])  # Assuming last output is execution time\n",
    "        print(f\"Grid size: {size}x{size}, Execution time: {time_taken:.6f} seconds\")\n",
    "    execution_times.append(time_taken)\n",
    "\n",
    "# Plot results\n",
    "plt.figure(figsize=(8, 6))\n",
    "plt.plot(grid_sizes, execution_times, marker='o', linestyle='-', color='b')\n",
    "plt.xlabel(\"Grid Size (N x N)\")\n",
    "plt.ylabel(\"Execution Time (seconds)\")\n",
    "plt.title(\"Execution Time vs Grid Size\")\n",
    "plt.grid(True)\n",
    "plt.show()\n"
   ]
  }
 ],
 "metadata": {
  "kernelspec": {
   "display_name": "py37data",
   "language": "python",
   "name": "python3"
  },
  "language_info": {
   "codemirror_mode": {
    "name": "ipython",
    "version": 3
   },
   "file_extension": ".py",
   "mimetype": "text/x-python",
   "name": "python",
   "nbconvert_exporter": "python",
   "pygments_lexer": "ipython3",
   "version": "3.7.16"
  }
 },
 "nbformat": 4,
 "nbformat_minor": 2
}
