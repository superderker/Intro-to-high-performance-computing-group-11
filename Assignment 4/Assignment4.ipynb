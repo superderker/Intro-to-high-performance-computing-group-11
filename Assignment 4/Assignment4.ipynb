{
 "cells": [
  {
   "cell_type": "markdown",
   "metadata": {},
   "source": [
    "# Assignment 4\n",
    "\n",
    "## Exercise I\n",
    "\n",
    "### Task 1.1"
   ]
  },
  {
   "cell_type": "code",
   "execution_count": null,
   "metadata": {},
   "outputs": [],
   "source": [
    "!python .\\wildfire_multiprocess.py "
   ]
  },
  {
   "cell_type": "markdown",
   "metadata": {},
   "source": [
    "![task_1_1_figure](wildfire_multiprocess.png)"
   ]
  },
  {
   "cell_type": "markdown",
   "metadata": {},
   "source": [
    "### Task 1.2"
   ]
  },
  {
   "cell_type": "code",
   "execution_count": null,
   "metadata": {},
   "outputs": [],
   "source": [
    "!python .\\wildfire_dask.py"
   ]
  },
  {
   "cell_type": "markdown",
   "metadata": {},
   "source": [
    "![task_1_2_figure](wildfire_dask.png)"
   ]
  },
  {
   "cell_type": "markdown",
   "metadata": {},
   "source": [
    "![dask_dashboard](dask_monitor_screenshot.png)"
   ]
  },
  {
   "cell_type": "markdown",
   "metadata": {},
   "source": [
    "NUM_SIMULATIONS = 10, CHUNK_SIZE=DAYS, worker_num=NUM_SIMULATIONS"
   ]
  },
  {
   "cell_type": "markdown",
   "metadata": {},
   "source": [
    "### Task 1.3"
   ]
  },
  {
   "cell_type": "code",
   "execution_count": null,
   "metadata": {},
   "outputs": [],
   "source": [
    "!python .\\wildfire_compare.py"
   ]
  },
  {
   "cell_type": "markdown",
   "metadata": {},
   "source": [
    "The execution time is only measured once due to resource and time limits."
   ]
  },
  {
   "cell_type": "markdown",
   "metadata": {},
   "source": [
    "Serial Execution Time:\n",
    "\n",
    "| Simulation | Time (seconds) |\n",
    "|------------|----------------|\n",
    "| 1          | 5.4641863      |\n",
    "| 5          | 15.9611537     |\n",
    "| 9          | 39.7204372     |\n",
    "| 13         | 36.8534202     |\n",
    "| 17         | 88.0557925     |\n",
    "| 21         | 103.2910338    |\n",
    "| 25         | 105.2492171    |\n",
    "| 29         | 128.146363     |\n"
   ]
  },
  {
   "cell_type": "markdown",
   "metadata": {},
   "source": [
    "Multiprocessing Execution Time:\n",
    "\n",
    "| Simulation | Time (seconds) |\n",
    "|------------|----------------|\n",
    "| 1          | 2.4127164      |\n",
    "| 5          | 9.1599804      |\n",
    "| 9          | 10.1446328     |\n",
    "| 13         | 13.9620677     |\n",
    "| 17         | 16.5804818     |\n",
    "| 21         | 20.4746288     |\n",
    "| 25         | 22.2798049     |\n",
    "| 29         | 23.5642263     |\n"
   ]
  },
  {
   "cell_type": "markdown",
   "metadata": {},
   "source": [
    "Dask Execution Time:\n",
    "\n",
    "| Simulation | Time (seconds) |\n",
    "|------------|----------------|\n",
    "| 1          | 8.379323       |\n",
    "| 5          | 9.7030715      |\n",
    "| 9          | 12.7513857     |\n",
    "| 13         | 15.9751966     |\n",
    "| 17         | 19.6469326     |\n",
    "| 21         | 25.0760358     |\n",
    "| 25         | 26.6249146     |\n",
    "| 29         | 32.5180873     |"
   ]
  },
  {
   "cell_type": "markdown",
   "metadata": {},
   "source": [
    "![compare](wildfire_comparison.png)"
   ]
  },
  {
   "cell_type": "markdown",
   "metadata": {},
   "source": [
    "Multiprocessing version works best"
   ]
  },
  {
   "cell_type": "code",
   "execution_count": null,
   "metadata": {},
   "outputs": [],
   "source": [
    "!python .\\wildfire_dask_scale.py"
   ]
  },
  {
   "cell_type": "markdown",
   "metadata": {},
   "source": [
    "![scale](wildfire_dask_scale.png)"
   ]
  },
  {
   "cell_type": "markdown",
   "metadata": {},
   "source": [
    "We tested two different scenarios. The first one is that the number of workers increases proportionally with the workload. As shown in the Execution Time Comparison figure, Dask's execution time increases slightly as both the workload and the number of workers grow, demonstrating weak scalability. In this scenario, Dask performs well. In the second scenario, where the number of workers increases while the workload remains constant, the execution decreases as the number of worker increases. It shows some scalability, but there is still a gap between the observed performance and the theoretical scalability."
   ]
  },
  {
   "cell_type": "code",
   "execution_count": null,
   "metadata": {},
   "outputs": [],
   "source": [
    "!python .\\wildfire_dask_chunksize.py"
   ]
  },
  {
   "cell_type": "markdown",
   "metadata": {},
   "source": [
    "![chunksize](wildfire_dask_chunksize.png)"
   ]
  },
  {
   "cell_type": "markdown",
   "metadata": {},
   "source": [
    "When the data volume is large, both too small or too large a chunk size can degrade performance. The optimal performance is achieved when the chunk size is appropriate. How the chunks are divided also affects performance. For example, (1,10) and (10,1) will have different effects, and adjustments should be made based on the specific computation. When the data volume is small, dividing the data into multiple smaller chunks does not improve performance and may actually reduce it."
   ]
  },
  {
   "cell_type": "markdown",
   "metadata": {},
   "source": [
    "### Task 1.4"
   ]
  },
  {
   "cell_type": "code",
   "execution_count": null,
   "metadata": {},
   "outputs": [],
   "source": []
  }
 ],
 "metadata": {
  "kernelspec": {
   "display_name": "py37data",
   "language": "python",
   "name": "python3"
  },
  "language_info": {
   "codemirror_mode": {
    "name": "ipython",
    "version": 3
   },
   "file_extension": ".py",
   "mimetype": "text/x-python",
   "name": "python",
   "nbconvert_exporter": "python",
   "pygments_lexer": "ipython3",
   "version": "3.7.16"
  }
 },
 "nbformat": 4,
 "nbformat_minor": 2
}
