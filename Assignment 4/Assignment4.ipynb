{
 "cells": [
  {
   "cell_type": "markdown",
   "metadata": {},
   "source": [
    "# Assignment 4\n",
    "\n",
    "## Exercise I\n",
    "\n",
    "### Task 1.1"
   ]
  },
  {
   "cell_type": "code",
   "execution_count": null,
   "metadata": {},
   "outputs": [],
   "source": [
    "!python .\\wildfire_multiprocess.py "
   ]
  },
  {
   "cell_type": "markdown",
   "metadata": {},
   "source": [
    "![task_1_1_figure](wildfire_multiprocess.png)"
   ]
  },
  {
   "cell_type": "markdown",
   "metadata": {},
   "source": [
    "### Task 1.2"
   ]
  },
  {
   "cell_type": "code",
   "execution_count": null,
   "metadata": {},
   "outputs": [],
   "source": [
    "!python .\\wildfire_dask.py"
   ]
  },
  {
   "cell_type": "markdown",
   "metadata": {},
   "source": [
    "![task_1_2_figure](wildfire_dask.png)"
   ]
  },
  {
   "cell_type": "markdown",
   "metadata": {},
   "source": [
    "![dask_dashboard](dask_monitor_screenshot.png)"
   ]
  },
  {
   "cell_type": "markdown",
   "metadata": {},
   "source": [
    "NUM_SIMULATIONS = 10, CHUNK_SIZE=DAYS, worker_num=NUM_SIMULATIONS"
   ]
  },
  {
   "cell_type": "markdown",
   "metadata": {},
   "source": [
    "### Task 1.3"
   ]
  },
  {
   "cell_type": "code",
   "execution_count": null,
   "metadata": {},
   "outputs": [],
   "source": [
    "!python .\\wildfire_compare.py"
   ]
  },
  {
   "cell_type": "markdown",
   "metadata": {},
   "source": [
    "The execution time is only measured once due to resource and time limits."
   ]
  },
  {
   "cell_type": "markdown",
   "metadata": {},
   "source": [
    "Serial Execution Time:\n",
    "\n",
    "| Simulation | Time (seconds) |\n",
    "|------------|----------------|\n",
    "| 1          | 5.4641863      |\n",
    "| 5          | 15.9611537     |\n",
    "| 9          | 39.7204372     |\n",
    "| 13         | 36.8534202     |\n",
    "| 17         | 88.0557925     |\n",
    "| 21         | 103.2910338    |\n",
    "| 25         | 105.2492171    |\n",
    "| 29         | 128.146363     |\n"
   ]
  },
  {
   "cell_type": "markdown",
   "metadata": {},
   "source": [
    "Multiprocessing Execution Time:\n",
    "\n",
    "| Simulation | Time (seconds) |\n",
    "|------------|----------------|\n",
    "| 1          | 2.4127164      |\n",
    "| 5          | 9.1599804      |\n",
    "| 9          | 10.1446328     |\n",
    "| 13         | 13.9620677     |\n",
    "| 17         | 16.5804818     |\n",
    "| 21         | 20.4746288     |\n",
    "| 25         | 22.2798049     |\n",
    "| 29         | 23.5642263     |\n"
   ]
  },
  {
   "cell_type": "markdown",
   "metadata": {},
   "source": [
    "Dask Execution Time:\n",
    "\n",
    "| Simulation | Time (seconds) |\n",
    "|------------|----------------|\n",
    "| 1          | 8.379323       |\n",
    "| 5          | 9.7030715      |\n",
    "| 9          | 12.7513857     |\n",
    "| 13         | 15.9751966     |\n",
    "| 17         | 19.6469326     |\n",
    "| 21         | 25.0760358     |\n",
    "| 25         | 26.6249146     |\n",
    "| 29         | 32.5180873     |"
   ]
  },
  {
   "cell_type": "markdown",
   "metadata": {},
   "source": [
    "![compare](wildfire_comparison.png)"
   ]
  },
  {
   "cell_type": "markdown",
   "metadata": {},
   "source": [
    "Multiprocessing version works best"
   ]
  },
  {
   "cell_type": "code",
   "execution_count": null,
   "metadata": {},
   "outputs": [],
   "source": [
    "!python .\\wildfire_dask_scale.py"
   ]
  },
  {
   "cell_type": "markdown",
   "metadata": {},
   "source": [
    "![scale](wildfire_dask_scale.png)"
   ]
  },
  {
   "cell_type": "markdown",
   "metadata": {},
   "source": [
    "We tested two different scenarios. The first one is that the number of workers increases proportionally with the workload. As shown in the Execution Time Comparison figure, Dask's execution time increases slightly as both the workload and the number of workers grow, demonstrating weak scalability. In this scenario, Dask performs well. In the second scenario, where the number of workers increases while the workload remains constant, the execution decreases as the number of worker increases. It shows some scalability, but there is still a gap between the observed performance and the theoretical scalability."
   ]
  },
  {
   "cell_type": "code",
   "execution_count": null,
   "metadata": {},
   "outputs": [],
   "source": [
    "!python .\\wildfire_dask_chunksize.py"
   ]
  },
  {
   "cell_type": "markdown",
   "metadata": {},
   "source": [
    "![chunksize](wildfire_dask_chunksize.png)"
   ]
  },
  {
   "cell_type": "markdown",
   "metadata": {},
   "source": [
    "When the data volume is large, both too small or too large a chunk size can degrade performance. The optimal performance is achieved when the chunk size is appropriate. How the chunks are divided also affects performance. For example, (1,10) and (10,1) will have different effects, and adjustments should be made based on the specific computation. When the data volume is small, dividing the data into multiple smaller chunks does not improve performance and may actually reduce it."
   ]
  },
  {
   "cell_type": "markdown",
   "metadata": {},
   "source": [
    "### Task 1.4"
   ]
  },
  {
   "cell_type": "code",
   "execution_count": 1,
   "metadata": {},
   "outputs": [
    {
     "name": "stdout",
     "output_type": "stream",
     "text": [
      "Saved VTK file: forest_day_00.vtk\n",
      "Figure(600x600)\n",
      "Saved VTK file: forest_day_01.vtk\n",
      "Saved VTK file: forest_day_02.vtk\n",
      "Saved VTK file: forest_day_03.vtk\n",
      "Saved VTK file: forest_day_04.vtk\n",
      "Saved VTK file: forest_day_05.vtk\n",
      "Figure(600x600)\n",
      "Saved VTK file: forest_day_06.vtk\n",
      "Saved VTK file: forest_day_07.vtk\n",
      "Saved VTK file: forest_day_08.vtk\n",
      "Saved VTK file: forest_day_09.vtk\n",
      "Saved VTK file: forest_day_10.vtk\n",
      "Figure(600x600)\n",
      "Saved VTK file: forest_day_11.vtk\n",
      "Saved VTK file: forest_day_12.vtk\n",
      "Saved VTK file: forest_day_13.vtk\n",
      "Saved VTK file: forest_day_14.vtk\n",
      "Saved VTK file: forest_day_15.vtk\n",
      "Figure(600x600)\n",
      "Saved VTK file: forest_day_16.vtk\n",
      "Saved VTK file: forest_day_17.vtk\n",
      "Saved VTK file: forest_day_18.vtk\n",
      "Saved VTK file: forest_day_19.vtk\n",
      "Saved VTK file: forest_day_20.vtk\n",
      "Figure(600x600)\n",
      "Saved VTK file: forest_day_21.vtk\n",
      "Saved VTK file: forest_day_22.vtk\n",
      "Saved VTK file: forest_day_23.vtk\n",
      "Saved VTK file: forest_day_24.vtk\n",
      "Saved VTK file: forest_day_25.vtk\n",
      "Figure(600x600)\n",
      "Saved VTK file: forest_day_26.vtk\n",
      "Saved VTK file: forest_day_27.vtk\n",
      "Saved VTK file: forest_day_28.vtk\n",
      "Saved VTK file: forest_day_29.vtk\n",
      "Saved VTK file: forest_day_30.vtk\n",
      "Figure(600x600)\n",
      "Saved VTK file: forest_day_31.vtk\n",
      "Saved VTK file: forest_day_32.vtk\n",
      "Saved VTK file: forest_day_33.vtk\n",
      "Saved VTK file: forest_day_34.vtk\n",
      "Saved VTK file: forest_day_35.vtk\n",
      "Figure(600x600)\n",
      "Saved VTK file: forest_day_36.vtk\n",
      "Saved VTK file: forest_day_37.vtk\n",
      "Saved VTK file: forest_day_38.vtk\n",
      "Saved VTK file: forest_day_39.vtk\n",
      "Saved VTK file: forest_day_40.vtk\n",
      "Figure(600x600)\n",
      "Saved VTK file: forest_day_41.vtk\n",
      "Saved VTK file: forest_day_42.vtk\n",
      "Saved VTK file: forest_day_43.vtk\n",
      "Saved VTK file: forest_day_44.vtk\n",
      "Saved VTK file: forest_day_45.vtk\n",
      "Figure(600x600)\n",
      "Saved VTK file: forest_day_46.vtk\n",
      "Saved VTK file: forest_day_47.vtk\n",
      "Saved VTK file: forest_day_48.vtk\n",
      "Saved VTK file: forest_day_49.vtk\n",
      "Saved VTK file: forest_day_50.vtk\n",
      "Figure(600x600)\n",
      "Saved VTK file: forest_day_51.vtk\n",
      "Saved VTK file: forest_day_52.vtk\n",
      "Saved VTK file: forest_day_53.vtk\n",
      "Saved VTK file: forest_day_54.vtk\n",
      "Saved VTK file: forest_day_55.vtk\n",
      "Figure(600x600)\n",
      "Saved VTK file: forest_day_56.vtk\n",
      "Saved VTK file: forest_day_57.vtk\n",
      "Saved VTK file: forest_day_58.vtk\n",
      "Saved VTK file: forest_day_59.vtk\n",
      "Figure(600x600)\n"
     ]
    }
   ],
   "source": [
    "!python .\\wildfire_visualize.py"
   ]
  },
  {
   "cell_type": "markdown",
   "metadata": {},
   "source": [
    "![animation1](animation_screenshot_1.png)\n",
    "![animation2](animation_screenshot_2.png)\n",
    "![animation3](animation_screenshot_3.png)"
   ]
  },
  {
   "cell_type": "markdown",
   "metadata": {},
   "source": [
    "see animation.mp4"
   ]
  },
  {
   "cell_type": "markdown",
   "metadata": {},
   "source": [
    "See Assignment4_Bonus.ipynb for bonus part"
   ]
  }
 ],
 "metadata": {
  "kernelspec": {
   "display_name": "py37data",
   "language": "python",
   "name": "python3"
  },
  "language_info": {
   "codemirror_mode": {
    "name": "ipython",
    "version": 3
   },
   "file_extension": ".py",
   "mimetype": "text/x-python",
   "name": "python",
   "nbconvert_exporter": "python",
   "pygments_lexer": "ipython3",
   "version": "3.7.16"
  }
 },
 "nbformat": 4,
 "nbformat_minor": 2
}
