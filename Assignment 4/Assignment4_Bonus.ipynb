{
 "cells": [
  {
   "metadata": {},
   "cell_type": "markdown",
   "source": "## Task B.1",
   "id": "cbc24d0a7191d05b"
  },
  {
   "metadata": {
    "ExecuteTime": {
     "end_time": "2025-02-18T19:07:01.808610Z",
     "start_time": "2025-02-18T19:07:01.189984Z"
    }
   },
   "cell_type": "code",
   "source": "!python ocean_serial.py",
   "id": "fdd4548375d11f06",
   "outputs": [
    {
     "name": "stdout",
     "output_type": "stream",
     "text": [
      "Time Step 0: Ocean currents updated.\r\n",
      "Time Step 10: Ocean currents updated.\r\n",
      "Time Step 20: Ocean currents updated.\r\n",
      "Time Step 30: Ocean currents updated.\r\n",
      "Time Step 40: Ocean currents updated.\r\n",
      "Time Step 50: Ocean currents updated.\r\n",
      "Time Step 60: Ocean currents updated.\r\n",
      "Time Step 70: Ocean currents updated.\r\n",
      "Time Step 80: Ocean currents updated.\r\n",
      "Time Step 90: Ocean currents updated.\r\n",
      "Time Step 99: Ocean currents updated.\r\n",
      "Execution time: 0.03 seconds\r\n",
      "Figure(600x500)\r\n",
      "Figure(600x500)\r\n",
      "Simulation complete.\r\n"
     ]
    }
   ],
   "execution_count": 3
  },
  {
   "metadata": {
    "ExecuteTime": {
     "end_time": "2025-02-18T19:06:32.031845Z",
     "start_time": "2025-02-18T19:06:22.096447Z"
    }
   },
   "cell_type": "code",
   "source": "!python ocean_dask_parallel.py",
   "id": "eeb3ff0f5d06ebd6",
   "outputs": [
    {
     "name": "stdout",
     "output_type": "stream",
     "text": [
      "Dask Dashboard link: http://127.0.0.1:8787/status\r\n",
      "Time Step 0: Updated.\r\n",
      "Time Step 10: Updated.\r\n",
      "Time Step 20: Updated.\r\n",
      "Time Step 30: Updated.\r\n",
      "Time Step 40: Updated.\r\n",
      "Time Step 50: Updated.\r\n",
      "Time Step 60: Updated.\r\n",
      "Time Step 70: Updated.\r\n",
      "Time Step 80: Updated.\r\n",
      "Time Step 90: Updated.\r\n",
      "Time Step 99: Updated.\r\n",
      "Execution time: 8.66 seconds\r\n",
      "Figure(600x500)\r\n",
      "Figure(600x500)\r\n",
      "Simulation complete.\r\n"
     ]
    }
   ],
   "execution_count": 1
  }
 ],
 "metadata": {
  "kernelspec": {
   "name": "python3",
   "language": "python",
   "display_name": "Python 3 (ipykernel)"
  }
 },
 "nbformat": 5,
 "nbformat_minor": 9
}
