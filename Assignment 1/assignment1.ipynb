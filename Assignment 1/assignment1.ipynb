{
 "cells": [
  {
   "cell_type": "code",
   "execution_count": 1,
   "metadata": {},
   "outputs": [
    {
     "ename": "",
     "evalue": "",
     "output_type": "error",
     "traceback": [
      "\u001b[1;31mRunning cells with 'Python 3.13.0' requires the ipykernel package.\n",
      "\u001b[1;31mRun the following command to install 'ipykernel' into the Python environment. \n",
      "\u001b[1;31mCommand: '/opt/homebrew/bin/python3 -m pip install ipykernel -U --user --force-reinstall'"
     ]
    }
   ],
   "source": [
    "\n",
    "\n",
    "import numpy as np\n",
    "from time import time as timer\n",
    "def checktick():\n",
    "    M = 200\n",
    "    timesfound = np.empty((M,))\n",
    "    for i in range(M):\n",
    "        t1 = timer() # get timestamp from timer\n",
    "        t2 = timer() # get timestamp from timer\n",
    "        while (t2 - t1) < 1e-16: # if zero then we are below clock granularity, retake timing\n",
    "            t2 = timer() # get timestamp from timer\n",
    "        t1 = t2 # this is outside the loop\n",
    "        timesfound[i] = t1 # record the time stamp\n",
    "    minDelta = 1000000\n",
    "    Delta = np.diff(timesfound) # it should be cast to int only when needed\n",
    "    minDelta = Delta.min()\n",
    "    return minDelta\n",
    "\n"
   ]
  },
  {
   "cell_type": "code",
   "execution_count": null,
   "metadata": {},
   "outputs": [],
   "source": [
    "checktick()"
   ]
  },
  {
   "cell_type": "code",
   "execution_count": 3,
   "metadata": {},
   "outputs": [],
   "source": [
    "import numpy as np\n",
    "from time import perf_counter as timer\n",
    "def checktick():\n",
    "    M = 200\n",
    "    timesfound = np.empty((M,))\n",
    "    for i in range(M):\n",
    "        t1 = timer() # get timestamp from timer\n",
    "        t2 = timer() # get timestamp from timer\n",
    "        while (t2 - t1) < 1e-16: # if zero then we are below clock granularity, retake timing\n",
    "            t2 = timer() # get timestamp from timer\n",
    "        t1 = t2 # this is outside the loop\n",
    "        timesfound[i] = t1 # record the time stamp\n",
    "    minDelta = 1000000\n",
    "    Delta = np.diff(timesfound) # it should be cast to int only when needed\n",
    "    minDelta = Delta.min()\n",
    "    return minDelta"
   ]
  },
  {
   "cell_type": "code",
   "execution_count": null,
   "metadata": {},
   "outputs": [],
   "source": [
    "checktick()"
   ]
  },
  {
   "cell_type": "code",
   "execution_count": 5,
   "metadata": {},
   "outputs": [],
   "source": [
    "import numpy as np\n",
    "from time import time_ns as timer\n",
    "def checktick():\n",
    "    M = 200\n",
    "    timesfound = np.empty((M,))\n",
    "    for i in range(M):\n",
    "        t1 = timer() # get timestamp from timer\n",
    "        t2 = timer() # get timestamp from timer\n",
    "        while (t2 - t1) < 1e-16: # if zero then we are below clock granularity, retake timing\n",
    "            t2 = timer() # get timestamp from timer\n",
    "        t1 = t2 # this is outside the loop\n",
    "        timesfound[i] = t1 # record the time stamp\n",
    "    minDelta = 1000000\n",
    "    Delta = np.diff(timesfound) # it should be cast to int only when needed\n",
    "    minDelta = Delta.min()\n",
    "    return minDelta/pow(10,9)"
   ]
  },
  {
   "cell_type": "code",
   "execution_count": null,
   "metadata": {},
   "outputs": [],
   "source": [
    "checktick()"
   ]
  },
  {
   "cell_type": "code",
   "execution_count": null,
   "metadata": {},
   "outputs": [],
   "source": [
    "\"\"\"Julia set generator without optional PIL-based image drawing\"\"\"\n",
    "from timeit import default_timer as time\n",
    "from functools import wraps\n",
    "\n",
    "# area of complex space to investigate\n",
    "x1, x2, y1, y2 = -1.8, 1.8, -1.8, 1.8\n",
    "c_real, c_imag = -0.62772, -.42193\n",
    "\n",
    "# decorator to time\n",
    "def timefn(fn):\n",
    "    @wraps(fn)\n",
    "    def measure_time(*args, **kwargs):\n",
    "        t1 = time()\n",
    "        result = fn(*args, **kwargs)\n",
    "        t2 = time()\n",
    "        print(f\"@timefn: {fn.__name__} took {t2 - t1} seconds\")\n",
    "        return result\n",
    "    return measure_time\n",
    "\n",
    "@timefn\n",
    "def calc_pure_python(desired_width, max_iterations):\n",
    "    \"\"\"Create a list of complex coordinates (zs) and complex parameters (cs),\n",
    "    build Julia set\"\"\"\n",
    "    x_step = (x2 - x1) / desired_width\n",
    "    y_step = (y1 - y2) / desired_width\n",
    "    x = []\n",
    "    y = []\n",
    "    ycoord = y2\n",
    "    while ycoord > y1:\n",
    "        y.append(ycoord)\n",
    "        ycoord += y_step\n",
    "    xcoord = x1\n",
    "    while xcoord < x2:\n",
    "        x.append(xcoord)\n",
    "        xcoord += x_step\n",
    "    # build a list of coordinates and the initial condition for each cell.\n",
    "    # Note that our initial condition is a constant and could easily be removed,\n",
    "    # we use it to simulate a real-world scenario with several inputs to our\n",
    "    # function\n",
    "    zs = []\n",
    "    cs = []\n",
    "    for ycoord in y:\n",
    "        for xcoord in x:\n",
    "            zs.append(complex(xcoord, ycoord))\n",
    "            cs.append(complex(c_real, c_imag))\n",
    "\n",
    "    print(\"Length of x:\", len(x))\n",
    "    print(\"Total elements:\", len(zs))\n",
    "    start_time = time()\n",
    "    output = calculate_z_serial_purepython(max_iterations, zs, cs)\n",
    "    end_time = time()\n",
    "    secs = end_time - start_time\n",
    "    print(calculate_z_serial_purepython.__name__ + \" took\", secs, \"seconds\")\n",
    "\n",
    "    # This sum is expected for a 1000^2 grid with 300 iterations\n",
    "    # It ensures that our code evolves exactly as we'd intended\n",
    "    assert sum(output) == 33219980\n",
    "\n",
    "@timefn\n",
    "def calculate_z_serial_purepython(maxiter, zs, cs):\n",
    "    \"\"\"Calculate output list using Julia update rule\"\"\"\n",
    "    output = [0] * len(zs)\n",
    "    for i in range(len(zs)):\n",
    "        n = 0\n",
    "        z = zs[i]\n",
    "        c = cs[i]\n",
    "        while abs(z) < 2 and n < maxiter:\n",
    "            z = z * z + c\n",
    "            n += 1\n",
    "        output[i] = n\n",
    "    return output\n",
    "\n",
    "if __name__ == \"__main__\":\n",
    "    # Calculate the Julia set using a pure Python solution with\n",
    "    # reasonable defaults for a laptop\n",
    "    calc_pure_python(desired_width=1000, max_iterations=300) "
   ]
  },
  {
   "cell_type": "code",
   "execution_count": null,
   "metadata": {},
   "outputs": [
    {
     "ename": "",
     "evalue": "",
     "output_type": "error",
     "traceback": [
      "\u001b[1;31mRunning cells with 'Python 3.13.0' requires the ipykernel package.\n",
      "\u001b[1;31mRun the following command to install 'ipykernel' into the Python environment. \n",
      "\u001b[1;31mCommand: '/opt/homebrew/bin/python3 -m pip install ipykernel -U --user --force-reinstall'"
     ]
    }
   ],
   "source": [
    "! python3 -m cProfile -s cumulative JuliaSet.py ##Changed to time perf_counter in file to reduce import clutter in output.\n",
    "                                                ##Timeit default_counter uses perf_counter so they are identical"
   ]
  },
  {
   "cell_type": "code",
   "execution_count": null,
   "metadata": {},
   "outputs": [],
   "source": [
    "! python3 -m line_profiler JuliaSet.py.lprof"
   ]
  },
  {
   "cell_type": "code",
   "execution_count": null,
   "metadata": {},
   "outputs": [],
   "source": [
    "! python3 -m memory_profiler JuliaSetMemProf.py"
   ]
  },
  {
   "cell_type": "code",
   "execution_count": null,
   "metadata": {},
   "outputs": [],
   "source": [
    "! python3 -m mprof run JuliaSet.py"
   ]
  },
  {
   "cell_type": "markdown",
   "metadata": {},
   "source": [
    "![title](mprofPlot.png)"
   ]
  },
  {
   "cell_type": "code",
   "execution_count": null,
   "metadata": {},
   "outputs": [],
   "source": [
    "import cProfile\n",
    "import pstats\n",
    "# from line_profiler import profile \n",
    "# for first task use line_profiler instead of memory_profiler\n",
    "# from memory_profiler import profile\n",
    "\n",
    "grid_shape = (640, 640)\n",
    "\n",
    "def evolve(grid, dt, D=1.0):\n",
    "    xmax, ymax = grid_shape\n",
    "    new_grid = [[0.0] * ymax for x in range(xmax)]\n",
    "    for i in range(xmax):\n",
    "        for j in range(ymax):\n",
    "            grid_xx = (\n",
    "                grid[(i + 1) % xmax][j] + grid[(i - 1) % xmax][j] - 2.0 * grid[i][j]\n",
    "            )\n",
    "            grid_yy = (\n",
    "                grid[i][(j + 1) % ymax] + grid[i][(j - 1) % ymax] - 2.0 * grid[i][j]\n",
    "            )\n",
    "            new_grid[i][j] = grid[i][j] + D * (grid_xx + grid_yy) * dt\n",
    "    return new_grid\n",
    "\n",
    "# @profile\n",
    "def run_experiment(num_iterations):\n",
    "    # Setting up initial conditions \n",
    "    xmax, ymax = grid_shape\n",
    "    grid = [[0.0] * ymax for x in range(xmax)]\n",
    "\n",
    "    # These initial conditions are simulating a drop of dye in the middle of our\n",
    "    # simulated region\n",
    "    block_low = int(grid_shape[0] * 0.4)\n",
    "    block_high = int(grid_shape[0] * 0.5)\n",
    "    for i in range(block_low, block_high):\n",
    "        for j in range(block_low, block_high):\n",
    "            grid[i][j] = 0.005\n",
    "\n",
    "    # Evolve the initial conditions\n",
    "    for i in range(num_iterations):\n",
    "        grid = evolve(grid, 0.1)\n",
    "\n",
    "run_experiment(100)\n"
   ]
  },
  {
   "cell_type": "markdown",
   "metadata": {},
   "source": [
    "    363 function calls (362 primitive calls) in 8.595 seconds\n",
    "\n",
    "   Ordered by: cumulative time\n",
    "\n",
    "   ncalls  tottime  percall  cumtime  percall filename:lineno(function)\n",
    "      2/1    0.000    0.000    8.594    8.594 {built-in method builtins.exec}\n",
    "        1    0.003    0.003    8.594    8.594 upp2.py:1(<module>)\n",
    "        1    0.236    0.236    8.591    8.591 upp2.py:24(run_experiment)\n",
    "        .\n",
    "        .\n",
    "        .\n",
    "        the rest is 0"
   ]
  },
  {
   "cell_type": "code",
   "execution_count": null,
   "metadata": {},
   "outputs": [],
   "source": [
    "# import cProfile\n",
    "# import pstats\n",
    "from line_profiler import profile \n",
    "# for first task use line_profiler instead of memory_profiler\n",
    "# from memory_profiler import profile\n",
    "\n",
    "grid_shape = (640, 640)\n",
    "\n",
    "def evolve(grid, dt, D=1.0):\n",
    "    xmax, ymax = grid_shape\n",
    "    new_grid = [[0.0] * ymax for x in range(xmax)]\n",
    "    for i in range(xmax):\n",
    "        for j in range(ymax):\n",
    "            grid_xx = (\n",
    "                grid[(i + 1) % xmax][j] + grid[(i - 1) % xmax][j] - 2.0 * grid[i][j]\n",
    "            )\n",
    "            grid_yy = (\n",
    "                grid[i][(j + 1) % ymax] + grid[i][(j - 1) % ymax] - 2.0 * grid[i][j]\n",
    "            )\n",
    "            new_grid[i][j] = grid[i][j] + D * (grid_xx + grid_yy) * dt\n",
    "    return new_grid\n",
    "\n",
    "@profile\n",
    "def run_experiment(num_iterations):\n",
    "    # Setting up initial conditions \n",
    "    xmax, ymax = grid_shape\n",
    "    grid = [[0.0] * ymax for x in range(xmax)]\n",
    "\n",
    "    # These initial conditions are simulating a drop of dye in the middle of our\n",
    "    # simulated region\n",
    "    block_low = int(grid_shape[0] * 0.4)\n",
    "    block_high = int(grid_shape[0] * 0.5)\n",
    "    for i in range(block_low, block_high):\n",
    "        for j in range(block_low, block_high):\n",
    "            grid[i][j] = 0.005\n",
    "\n",
    "    # Evolve the initial conditions\n",
    "    for i in range(num_iterations):\n",
    "        grid = evolve(grid, 0.1)\n",
    "        \n",
    "# run_experiment(100)\n",
    "# to test cprofile run the cod(remove @profile):python3 -m cProfile -s cumulative upp2.py\n",
    "# profiler = cProfile.Profile()\n",
    "# profiler.run('run_experiment(100)')\n",
    "# profiler.dump_stats('profile_results.prof')\n",
    "\n",
    "run_experiment(100) # python3 -m kernprof -l upp2.py  show results: python3 -m line_profiler -rmt \"upp2.py.lprof\" show\n",
    "# python3 ...\n",
    "# snakeviz profile_results.prof"
   ]
  },
  {
   "cell_type": "markdown",
   "metadata": {},
   "source": [
    "Timer unit: 1e-06 s\n",
    "\n",
    "Total time: 32.255 s\n",
    "File: upp2.py\n",
    "Function: run_experiment at line 23\n",
    "\n",
    "Line #      Hits         Time  Per Hit   % Time  Line Contents\n",
    "==============================================================\n",
    "    23                                           @profile\n",
    "    24                                           def run_experiment(num_iterations):\n",
    "    25                                               # Setting up initial conditions \n",
    "    26         1          0.0      0.0      0.0      xmax, ymax = grid_shape\n",
    "    27         1        602.0    602.0      0.0      grid = [[0.0] * ymax for x in range(xmax)]\n",
    "    28                                           \n",
    "    29                                               # These initial conditions are simulating a drop of dye in the middle of our\n",
    "    30                                               # simulated region\n",
    "    31         1          3.0      3.0      0.0      block_low = int(grid_shape[0] * 0.4)\n",
    "    32         1          0.0      0.0      0.0      block_high = int(grid_shape[0] * 0.5)\n",
    "    33        65          9.0      0.1      0.0      for i in range(block_low, block_high):\n",
    "    34      4160        439.0      0.1      0.0          for j in range(block_low, block_high):\n",
    "    35      4096        505.0      0.1      0.0              grid[i][j] = 0.005\n",
    "    36                                           \n",
    "    37                                               # Evolve the initial conditions\n",
    "    38       101        119.0      1.2      0.0      for i in range(num_iterations):\n",
    "    39       100   32253355.0 322533.5    100.0          grid = evolve(grid, 0.1)\n",
    "\n",
    " 32.26 seconds - upp2.py:23 - run_experiment"
   ]
  },
  {
   "cell_type": "markdown",
   "metadata": {},
   "source": [
    "![Memory Plot](./memplot.png)"
   ]
  },
  {
   "cell_type": "markdown",
   "metadata": {},
   "source": [
    "![Snakeviz Visualization](./snakevizim.png)"
   ]
  }
 ],
 "metadata": {
  "kernelspec": {
   "display_name": "Python 3",
   "language": "python",
   "name": "python3"
  },
  "language_info": {
   "codemirror_mode": {
    "name": "ipython",
    "version": 3
   },
   "file_extension": ".py",
   "mimetype": "text/x-python",
   "name": "python",
   "nbconvert_exporter": "python",
   "pygments_lexer": "ipython3",
   "version": "3.13.0"
  }
 },
 "nbformat": 4,
 "nbformat_minor": 4
}
